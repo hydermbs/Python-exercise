{
  "nbformat": 4,
  "nbformat_minor": 0,
  "metadata": {
    "colab": {
      "name": "Sets Exercise.ipynb",
      "provenance": [],
      "authorship_tag": "ABX9TyPlpnz2a1/HJV+zpJyAiowK",
      "include_colab_link": true
    },
    "kernelspec": {
      "name": "python3",
      "display_name": "Python 3"
    },
    "language_info": {
      "name": "python"
    }
  },
  "cells": [
    {
      "cell_type": "markdown",
      "metadata": {
        "id": "view-in-github",
        "colab_type": "text"
      },
      "source": [
        "<a href=\"https://colab.research.google.com/github/hydermbs/Python-exercise/blob/main/Sets_Exercise.ipynb\" target=\"_parent\"><img src=\"https://colab.research.google.com/assets/colab-badge.svg\" alt=\"Open In Colab\"/></a>"
      ]
    },
    {
      "cell_type": "markdown",
      "source": [
        "**Exercise 1: Add a list of elements to a set**\n",
        "\n",
        "Given a Python list, Write a program to add all its elements into a given set.\n",
        "\n",
        "**Given:**\n",
        "\n",
        "sample_set = {\"Yellow\", \"Orange\", \"Black\"}\n",
        "\n",
        "sample_list = [\"Blue\", \"Green\", \"Red\"]"
      ],
      "metadata": {
        "id": "t5j0CkMqqQuV"
      }
    },
    {
      "cell_type": "code",
      "execution_count": 3,
      "metadata": {
        "colab": {
          "base_uri": "https://localhost:8080/"
        },
        "id": "UQtRttvUqB1Y",
        "outputId": "0a4b3c9e-95a7-4b9e-ea50-9914815da107"
      },
      "outputs": [
        {
          "output_type": "stream",
          "name": "stdout",
          "text": [
            "{'Black', 'Yellow', 'Orange', 'Green', 'Blue', 'Red'}\n"
          ]
        }
      ],
      "source": [
        "sample_set = {\"Yellow\", \"Orange\", \"Black\"}\n",
        "\n",
        "sample_list = [\"Blue\", \"Green\", \"Red\"]\n",
        "sample_set.update(sample_list)\n",
        "print(sample_set)"
      ]
    },
    {
      "cell_type": "markdown",
      "source": [
        "**Exercise 2: Return a new set of identical items from two sets**\n",
        "\n",
        "Given:\n",
        "\n",
        "set1 = {10, 20, 30, 40, 50}\n",
        "\n",
        "set2 = {30, 40, 50, 60, 70}"
      ],
      "metadata": {
        "id": "A4uSu7aWrzVy"
      }
    },
    {
      "cell_type": "code",
      "source": [
        "set1 = {10, 20, 30, 40, 50}\n",
        "\n",
        "set2 = {30, 40, 50, 60, 70}\n",
        "\n",
        "set1.intersection(set2)"
      ],
      "metadata": {
        "colab": {
          "base_uri": "https://localhost:8080/"
        },
        "id": "osWg6Fdbr5kw",
        "outputId": "ed2b16d5-3f60-411b-fb66-8cc307cbdb0f"
      },
      "execution_count": 6,
      "outputs": [
        {
          "output_type": "execute_result",
          "data": {
            "text/plain": [
              "{30, 40, 50}"
            ]
          },
          "metadata": {},
          "execution_count": 6
        }
      ]
    },
    {
      "cell_type": "markdown",
      "source": [
        "**Exercise 3: Get Only unique items from two sets**\n",
        "\n",
        "Write a Python program to return a new set with unique items from both sets by removing duplicates."
      ],
      "metadata": {
        "id": "mWIGxDa-sSw8"
      }
    },
    {
      "cell_type": "code",
      "source": [
        "set1 = {10, 20, 30, 40, 50}\n",
        "set2 = {30, 40, 50, 60, 70}\n",
        "\n",
        "set1.union(set2)"
      ],
      "metadata": {
        "colab": {
          "base_uri": "https://localhost:8080/"
        },
        "id": "3jVxbuaLsXp4",
        "outputId": "c618a542-73aa-42ed-87d3-3bf72b29f11e"
      },
      "execution_count": 8,
      "outputs": [
        {
          "output_type": "execute_result",
          "data": {
            "text/plain": [
              "{10, 20, 30, 40, 50, 60, 70}"
            ]
          },
          "metadata": {},
          "execution_count": 8
        }
      ]
    },
    {
      "cell_type": "markdown",
      "source": [
        "**Exercise 4: Update the first set with items that don’t exist in the second set**\n",
        "\n",
        "Given two Python sets, write a Python program to update the first set with items that exist only in the first set and not in the second set."
      ],
      "metadata": {
        "id": "7__zcA4Asxoq"
      }
    },
    {
      "cell_type": "code",
      "source": [
        "set1 = {10, 20, 30}\n",
        "set2 = {20, 40, 50}\n",
        "set1.difference(set2)\n"
      ],
      "metadata": {
        "colab": {
          "base_uri": "https://localhost:8080/"
        },
        "id": "if6VHx35s0rO",
        "outputId": "9c67ab8a-ffcf-4f87-8e7b-4daedd12a23d"
      },
      "execution_count": 11,
      "outputs": [
        {
          "output_type": "execute_result",
          "data": {
            "text/plain": [
              "{10, 30}"
            ]
          },
          "metadata": {},
          "execution_count": 11
        }
      ]
    },
    {
      "cell_type": "markdown",
      "source": [
        "**Exercise 5: Remove items from the set at once**\n",
        "\n",
        "Write a Python program to remove items 10, 20, 30 from the following set at once.\n",
        "\n",
        "set1 = {10, 20, 30, 40, 50}"
      ],
      "metadata": {
        "id": "_IX3N1AFtMNW"
      }
    },
    {
      "cell_type": "code",
      "source": [
        "set1 = {10, 20, 30, 40, 50}\n",
        "set1.difference_update({10,20,30})\n",
        "print(set1)"
      ],
      "metadata": {
        "colab": {
          "base_uri": "https://localhost:8080/"
        },
        "id": "6RD2c2OYtR-n",
        "outputId": "bc321c2b-0c6c-40c8-ce6e-edfc0831e7f6"
      },
      "execution_count": 13,
      "outputs": [
        {
          "output_type": "stream",
          "name": "stdout",
          "text": [
            "{40, 50}\n"
          ]
        }
      ]
    },
    {
      "cell_type": "markdown",
      "source": [
        "**Exercise 6: Return a set of elements present in Set A or B, but not both**"
      ],
      "metadata": {
        "id": "F7G9wM0AtqFd"
      }
    },
    {
      "cell_type": "code",
      "source": [
        "set1 = {10, 20, 30, 40, 50}\n",
        "set2 = {30, 40, 50, 60, 70}\n",
        "set1.symmetric_difference(set2)"
      ],
      "metadata": {
        "colab": {
          "base_uri": "https://localhost:8080/"
        },
        "id": "s-D2S2eXtu89",
        "outputId": "a4b4c465-d9b9-412c-8f18-8db086befba2"
      },
      "execution_count": 14,
      "outputs": [
        {
          "output_type": "execute_result",
          "data": {
            "text/plain": [
              "{10, 20, 60, 70}"
            ]
          },
          "metadata": {},
          "execution_count": 14
        }
      ]
    },
    {
      "cell_type": "markdown",
      "source": [
        "**Exercise 7: Check if two sets have any elements in common. If yes, display the common elements**"
      ],
      "metadata": {
        "id": "QZAsQIoLuF1C"
      }
    },
    {
      "cell_type": "code",
      "source": [
        "set1 = {10, 20, 30, 40, 50}\n",
        "set2 = {60, 70, 80, 90, 10}\n",
        "set1.intersection(set2)"
      ],
      "metadata": {
        "colab": {
          "base_uri": "https://localhost:8080/"
        },
        "id": "pOAMq6bWuMty",
        "outputId": "bde7a64c-07d5-4f50-cebc-1310a659ace5"
      },
      "execution_count": 15,
      "outputs": [
        {
          "output_type": "execute_result",
          "data": {
            "text/plain": [
              "{10}"
            ]
          },
          "metadata": {},
          "execution_count": 15
        }
      ]
    },
    {
      "cell_type": "code",
      "source": [
        "set1 = {10, 20, 30, 40, 50}\n",
        "set2 = {60, 70, 80, 90, 10}\n",
        "\n",
        "if set1.isdisjoint(set2):\n",
        "  print(\"Two sets have no items in common\")\n",
        "else:\n",
        "  print(\"Two sets have items in common\")\n",
        "  print(set1.intersection(set2))"
      ],
      "metadata": {
        "id": "6OTiouG1ul8J"
      },
      "execution_count": null,
      "outputs": []
    },
    {
      "cell_type": "markdown",
      "source": [
        "**Exercise 8: Update set1 by adding items from set2, except common items**"
      ],
      "metadata": {
        "id": "oHxyy4l5urHp"
      }
    },
    {
      "cell_type": "code",
      "source": [
        "set1 = {10, 20, 30, 40, 50}\n",
        "set2 = {30, 40, 50, 60, 70}\n",
        "set1.symmetric_difference_update(set2)\n",
        "print(set1)"
      ],
      "metadata": {
        "colab": {
          "base_uri": "https://localhost:8080/"
        },
        "id": "pT6wTyjouvAb",
        "outputId": "0a00005d-d119-4565-8e99-a2e7e3162971"
      },
      "execution_count": 23,
      "outputs": [
        {
          "output_type": "stream",
          "name": "stdout",
          "text": [
            "{70, 10, 20, 60}\n"
          ]
        }
      ]
    },
    {
      "cell_type": "markdown",
      "source": [
        "**Exercise 9: Remove items from set1 that are not common to both set1 and set2**"
      ],
      "metadata": {
        "id": "RNoc0Nmsv0ay"
      }
    },
    {
      "cell_type": "code",
      "source": [
        "set1 = {10, 20, 30, 40, 50}\n",
        "set2 = {30, 40, 50, 60, 70}\n",
        "set1.intersection_update(set2)\n",
        "print(set1)"
      ],
      "metadata": {
        "colab": {
          "base_uri": "https://localhost:8080/"
        },
        "id": "Y2J5_j1nv44Y",
        "outputId": "d00dbcc8-78f6-45c7-c662-c1e8ffcf0d33"
      },
      "execution_count": 25,
      "outputs": [
        {
          "output_type": "stream",
          "name": "stdout",
          "text": [
            "{40, 50, 30}\n"
          ]
        }
      ]
    }
  ]
}