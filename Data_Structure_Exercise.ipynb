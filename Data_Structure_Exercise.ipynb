{
  "nbformat": 4,
  "nbformat_minor": 0,
  "metadata": {
    "colab": {
      "name": "Data Structure Exercise.ipynb",
      "provenance": [],
      "authorship_tag": "ABX9TyPsccDzDWZNw0ijzAPFDRsW",
      "include_colab_link": true
    },
    "kernelspec": {
      "name": "python3",
      "display_name": "Python 3"
    },
    "language_info": {
      "name": "python"
    }
  },
  "cells": [
    {
      "cell_type": "markdown",
      "metadata": {
        "id": "view-in-github",
        "colab_type": "text"
      },
      "source": [
        "<a href=\"https://colab.research.google.com/github/hydermbs/Python-exercise/blob/main/Data_Structure_Exercise.ipynb\" target=\"_parent\"><img src=\"https://colab.research.google.com/assets/colab-badge.svg\" alt=\"Open In Colab\"/></a>"
      ]
    },
    {
      "cell_type": "markdown",
      "source": [
        "**Exercise 1: Create a list by picking an odd-index items from the first list and even index items from the second**\n",
        "\n",
        "Given two lists, l1 and l2, write a program to create a third list l3 by picking an odd-index element from the list l1 and even index elements from the list l2.\n",
        "\n",
        "**Given:**\n",
        "\n",
        "l1 = [3, 6, 9, 12, 15, 18, 21]\n",
        "l2 = [4, 8, 12, 16, 20, 24, 28]"
      ],
      "metadata": {
        "id": "pYvchyF_khEi"
      }
    },
    {
      "cell_type": "code",
      "execution_count": null,
      "metadata": {
        "colab": {
          "base_uri": "https://localhost:8080/"
        },
        "id": "-HG5hK6giBAo",
        "outputId": "349505de-0039-4700-b0f8-52b7b78f7375"
      },
      "outputs": [
        {
          "output_type": "stream",
          "name": "stdout",
          "text": [
            "Odd index number: [6, 12, 18] \n",
            "\n",
            "Even Index number:  [4, 12, 20, 28] \n",
            "\n",
            "Final third List\n",
            "[6, 12, 18, 4, 12, 20, 28]\n"
          ]
        }
      ],
      "source": [
        "l1 = [3, 6, 9, 12, 15, 18, 21] \n",
        "l2 = [4, 8, 12, 16, 20, 24, 28]\n",
        "\n",
        "#we use slice method by given start, end and step\n",
        "odd = l1[1:7:2]\n",
        "print('Odd index number:',odd,'\\n')\n",
        "even = l2[0:7:2]\n",
        "print('Even Index number: ',even,'\\n')\n",
        "#then concatenate both of them\n",
        "print('Final third List')\n",
        "new_list = odd + even\n",
        "print(new_list)"
      ]
    },
    {
      "cell_type": "code",
      "source": [
        "l1 = [3, 6, 9, 12, 15, 18, 21] \n",
        "l2 = [4, 8, 12, 16, 20, 24, 28]\n",
        "res = []\n",
        "#here is second method of slicing\n",
        "odd = l1[1::2]\n",
        "\n",
        "print('Odd Index number : ',odd,'\\n')\n",
        "\n",
        "even = l2[0::2]\n",
        "print('Even Index Number : ',even,'\\n')\n",
        "\n",
        "print(\"printing final third list\")\n",
        "\n",
        "res.extend(odd)\n",
        "res.extend(even)\n",
        "\n",
        "print(res)"
      ],
      "metadata": {
        "colab": {
          "base_uri": "https://localhost:8080/"
        },
        "id": "N0_5CofgmTW1",
        "outputId": "f76f99db-3b12-4482-a9e8-67bc5dbe5fa9"
      },
      "execution_count": null,
      "outputs": [
        {
          "output_type": "stream",
          "name": "stdout",
          "text": [
            "Odd Index number :  [6, 12, 18] \n",
            "\n",
            "Even Index Number :  [4, 12, 20, 28] \n",
            "\n",
            "printing final third list\n",
            "[6, 12, 18, 4, 12, 20, 28]\n"
          ]
        }
      ]
    },
    {
      "cell_type": "markdown",
      "source": [
        "**Exercise 2: Remove and add item in a list**\n",
        "\n",
        "Write a program to remove the item present at index 4 and add it to the 2nd position and at the end of the list.\n",
        "\n",
        "**Given:**\n",
        "\n",
        "list1 = [54, 44, 27, 79, 91, 41] "
      ],
      "metadata": {
        "id": "n9nIQpO3oBiF"
      }
    },
    {
      "cell_type": "code",
      "source": [
        "list1 = [54, 44, 27, 79, 91, 41]\n",
        "\n",
        "list1.pop(4)\n",
        "print('List after deleting number from index 2',list1)\n",
        "\n",
        "list1.insert(2,11)\n",
        "print('list after insert 44 at same index',list1)\n",
        "\n",
        "\n",
        "list1.append(11)\n",
        "print('list after adding a number in last',list1)\n"
      ],
      "metadata": {
        "colab": {
          "base_uri": "https://localhost:8080/"
        },
        "id": "vn3_YpIpoPOi",
        "outputId": "dbb10324-55a4-4211-9262-e250e227a0a1"
      },
      "execution_count": null,
      "outputs": [
        {
          "output_type": "stream",
          "name": "stdout",
          "text": [
            "List after deleting number from index 2 [54, 44, 27, 79, 41]\n",
            "list after insert 44 at same index [54, 44, 11, 27, 79, 41]\n",
            "list after adding a number in last [54, 44, 11, 27, 79, 41, 11]\n"
          ]
        }
      ]
    },
    {
      "cell_type": "markdown",
      "source": [
        "**Exercise 4: Count the occurrence of each element from a list**\n",
        "\n",
        "Write a program to iterate a given list and count the occurrence of each element and create a dictionary to show the count of each element.\n",
        "\n",
        "sample_list = [11, 45, 8, 11, 23, 45, 23, 45, 89]"
      ],
      "metadata": {
        "id": "Hyi7VhWOrXpr"
      }
    },
    {
      "cell_type": "code",
      "source": [
        "sample_list = [11, 45, 8, 23, 14, 12, 78, 45, 89]\n",
        "print('Original list is:',sample_list)\n",
        "\n",
        "count_dict = dict()\n",
        "\n",
        "for item in sample_list:\n",
        "  if item in count_dict:\n",
        "    count_dict[item]+=1\n",
        "  else:\n",
        "    count_dict[item]=1\n",
        "print(count_dict)"
      ],
      "metadata": {
        "colab": {
          "base_uri": "https://localhost:8080/"
        },
        "id": "9adz1r45vy08",
        "outputId": "75790079-e1a1-428e-ec34-cf853097a594"
      },
      "execution_count": null,
      "outputs": [
        {
          "output_type": "stream",
          "name": "stdout",
          "text": [
            "Original list is: [11, 45, 8, 23, 14, 12, 78, 45, 89]\n",
            "{11: 1, 45: 2, 8: 1, 23: 1, 14: 1, 12: 1, 78: 1, 89: 1}\n"
          ]
        }
      ]
    },
    {
      "cell_type": "markdown",
      "source": [
        "**Exercise 5: Create a Python set such that it shows the element from both lists in a pair**\n",
        "Given:\n",
        "\n",
        "first_list = [2, 3, 4, 5, 6, 7, 8]\n",
        "second_list = [4, 9, 16, 25, 36, 49, 64]"
      ],
      "metadata": {
        "id": "-9tw-cE-POdP"
      }
    },
    {
      "cell_type": "code",
      "source": [
        "first_list = [2,3,4,5,6,7,8]\n",
        "print('First list :',first_list)\n",
        "second_list = [4,9,16,25,36,49,64]\n",
        "print('second list : ',second_list)\n",
        "result = zip(first_list,second_list)\n",
        "result_set = set(result)\n",
        "print(result_set)\n",
        "\n"
      ],
      "metadata": {
        "colab": {
          "base_uri": "https://localhost:8080/"
        },
        "id": "8M_teOeNPXkD",
        "outputId": "4c0b5a87-a9ef-4798-edd7-9c51ff4cd0a0"
      },
      "execution_count": 2,
      "outputs": [
        {
          "output_type": "stream",
          "name": "stdout",
          "text": [
            "First list : [2, 3, 4, 5, 6, 7, 8]\n",
            "second list :  [4, 9, 16, 25, 36, 49, 64]\n",
            "{(6, 36), (8, 64), (4, 16), (5, 25), (3, 9), (7, 49), (2, 4)}\n"
          ]
        }
      ]
    },
    {
      "cell_type": "markdown",
      "source": [
        "**Exercise 6: Find the intersection (common) of two sets and remove those elements from the first set**\n",
        "\n",
        "**Given:**\n",
        "\n",
        "first_set = {23, 42, 65, 57, 78, 83, 29}\n",
        "second_set = {57, 83, 29, 67, 73, 43, 48}"
      ],
      "metadata": {
        "id": "AZYzYmFaQxS2"
      }
    },
    {
      "cell_type": "code",
      "source": [
        "first_set = {23,42,65,57,78,83,29}\n",
        "print('First set is:',first_set)\n",
        "second_set = {57,83,29,67,73,43,48}\n",
        "print('Second set is : ',second_set)\n",
        "intersection = first_set.intersection(second_set)\n",
        "print('Intersection set is :', intersection)\n",
        "for item in intersection:\n",
        "  first_set.remove(item)\n",
        "print('First list after intersection is: ', first_set)"
      ],
      "metadata": {
        "colab": {
          "base_uri": "https://localhost:8080/"
        },
        "id": "6OyRGKLLRO-b",
        "outputId": "ec399f62-40f3-4e89-debf-3ca66f07e7a0"
      },
      "execution_count": 6,
      "outputs": [
        {
          "output_type": "stream",
          "name": "stdout",
          "text": [
            "First set is: {65, 42, 78, 83, 23, 57, 29}\n",
            "Second set is :  {67, 73, 43, 48, 83, 57, 29}\n",
            "Intersection set is : {57, 83, 29}\n",
            "First list after intersection is:  {65, 42, 78, 23}\n"
          ]
        }
      ]
    },
    {
      "cell_type": "markdown",
      "source": [
        "**Exercise 7: Checks if one set is a subset or superset of another set. If found, delete all elements from that set**\n",
        "\n",
        "**Given:**\n",
        "\n",
        "first_set = {27, 43, 34}\n",
        "second_set = {34, 93, 22, 27, 43, 53, 48}"
      ],
      "metadata": {
        "id": "4FlaIYCYTtm3"
      }
    },
    {
      "cell_type": "code",
      "source": [
        "first_set = {27, 43, 34}\n",
        "print(\"First Set :\", first_set)\n",
        "second_set = {34, 93, 22, 27, 43, 53, 48}\n",
        "print(\"second Set: \",second_set)\n",
        "\n",
        "print('First set is subset of Second set:',first_set.issubset(second_set))\n",
        "print('Second set is subset of First set:',second_set.issubset(first_set))\n",
        "print('First set is super set of second set',first_set.issuperset(second_set))\n",
        "print('Second Set is super set of first set',second_set.issuperset(first_set))\n",
        "\n",
        "if first_set.issubset(second_set):\n",
        "  first_set.clear()\n",
        "if second_set.issubset(first_set):\n",
        "  second_set.clear()\n",
        "print('First set is ',first_set)\n",
        "print('second Set is ',second_set)"
      ],
      "metadata": {
        "colab": {
          "base_uri": "https://localhost:8080/"
        },
        "id": "0vvIftb9T1js",
        "outputId": "b75c3461-a276-4df1-d95a-c60c761205c6"
      },
      "execution_count": 11,
      "outputs": [
        {
          "output_type": "stream",
          "name": "stdout",
          "text": [
            "First Set : {43, 34, 27}\n",
            "second Set:  {34, 43, 48, 53, 22, 27, 93}\n",
            "First set is subset of Second set: True\n",
            "Second set is subset of First set: False\n",
            "First set is super set of second set False\n",
            "Second Set is super set of first set True\n",
            "First set is  set()\n",
            "second Set is  {34, 43, 48, 53, 22, 27, 93}\n"
          ]
        }
      ]
    },
    {
      "cell_type": "markdown",
      "source": [
        "**Exercise 8: Iterate a given list and check if a given element exists as a key’s value in a dictionary. If not, delete it from the list**\n",
        "\n",
        "**Given:**\n",
        "\n",
        "roll_number = [47, 64, 69, 37, 76, 83, 95, 97]\n",
        "sample_dict = {'Jhon':47, 'Emma':69, 'Kelly':76, 'Jason':97}"
      ],
      "metadata": {
        "id": "MdWbZfbDWdrr"
      }
    },
    {
      "cell_type": "code",
      "source": [
        "roll_number = [47, 64, 69, 37, 76, 83, 95, 97] \n",
        "print('List is:',roll_number)\n",
        "sample_dict = {'Jhon':47, 'Emma':69, 'Kelly':76, 'Jason':97}\n",
        "print('dictionarty is:',sample_dict)\n",
        "roll_number[:] = [item for item in roll_number if item in sample_dict.values()]\n",
        "print('New list is:',roll_number)"
      ],
      "metadata": {
        "colab": {
          "base_uri": "https://localhost:8080/"
        },
        "id": "qxsf2BL3Wndw",
        "outputId": "e70f5475-bbba-442a-c814-598dfa8f266e"
      },
      "execution_count": 13,
      "outputs": [
        {
          "output_type": "stream",
          "name": "stdout",
          "text": [
            "List is: [47, 64, 69, 37, 76, 83, 95, 97]\n",
            "dictionarty is: {'Jhon': 47, 'Emma': 69, 'Kelly': 76, 'Jason': 97}\n",
            "New list is: [47, 69, 76, 97]\n"
          ]
        }
      ]
    },
    {
      "cell_type": "markdown",
      "source": [
        "**Exercise 9: Get all values from the dictionary and add them to a list but don’t add duplicates**\n",
        "\n",
        "**Given:**\n",
        "\n",
        "speed = {'jan': 47, 'feb': 52, 'march': 47, 'April': 44, 'May': 52, 'June': 53, 'july': 54, 'Aug': 44, 'Sept': 54}"
      ],
      "metadata": {
        "id": "AJY-D-NSXy0j"
      }
    },
    {
      "cell_type": "code",
      "source": [
        "speed = {'jan': 47, 'feb': 52, 'march': 47, 'April': 44, 'May': 52, 'June': 53, 'july': 54, 'Aug': 44, 'Sept': 54}\n",
        "print('Dictionary: ',speed)\n",
        "speed_list = []\n",
        "for item in speed.values():\n",
        "  if item not in speed_list:\n",
        "    speed_list.append(item)\n",
        "print('List is :',speed_list)\n"
      ],
      "metadata": {
        "colab": {
          "base_uri": "https://localhost:8080/"
        },
        "id": "EN-25he9X9rB",
        "outputId": "02253896-92e3-4197-c21f-6da6dcbe5269"
      },
      "execution_count": 16,
      "outputs": [
        {
          "output_type": "stream",
          "name": "stdout",
          "text": [
            "Dictionary:  {'jan': 47, 'feb': 52, 'march': 47, 'April': 44, 'May': 52, 'June': 53, 'july': 54, 'Aug': 44, 'Sept': 54}\n",
            "List is : [47, 52, 44, 53, 54]\n"
          ]
        }
      ]
    },
    {
      "cell_type": "markdown",
      "source": [
        "**Exercise 10: Remove duplicates from a list and create a tuple and find the minimum and maximum number**\n",
        "\n",
        "**Given:**\n",
        "\n",
        "sample_list = [87, 45, 41, 65, 94, 41, 99, 94]"
      ],
      "metadata": {
        "id": "j_9fihhGY8iN"
      }
    },
    {
      "cell_type": "code",
      "source": [
        "sample_list = [87,45,65,94,41,99,94]\n",
        "print('Sample List is:',sample_list)\n",
        "unique_list = list(set(sample_list))\n",
        "print('Unique List is:',unique_list)\n",
        "t = tuple(sample_list)\n",
        "print('Tuple list is: ',t)\n",
        "a = min(sample_list)\n",
        "print('Minimum number is:',a)\n",
        "b = max(sample_list)\n",
        "print('Maximum number is :',b)"
      ],
      "metadata": {
        "colab": {
          "base_uri": "https://localhost:8080/",
          "height": 287
        },
        "id": "YyKahOrxZD94",
        "outputId": "ebd6ed7f-3647-43b7-8d69-92d85abe44d3"
      },
      "execution_count": 27,
      "outputs": [
        {
          "output_type": "stream",
          "name": "stdout",
          "text": [
            "Sample List is: [87, 45, 65, 94, 41, 99, 94]\n",
            "Unique List is: [65, 99, 41, 45, 87, 94]\n",
            "Tuple list is:  (87, 45, 65, 94, 41, 99, 94)\n"
          ]
        },
        {
          "output_type": "error",
          "ename": "TypeError",
          "evalue": "ignored",
          "traceback": [
            "\u001b[0;31m---------------------------------------------------------------------------\u001b[0m",
            "\u001b[0;31mTypeError\u001b[0m                                 Traceback (most recent call last)",
            "\u001b[0;32m<ipython-input-27-3d8d73b9b9a1>\u001b[0m in \u001b[0;36m<module>\u001b[0;34m()\u001b[0m\n\u001b[1;32m      5\u001b[0m \u001b[0mt\u001b[0m \u001b[0;34m=\u001b[0m \u001b[0mtuple\u001b[0m\u001b[0;34m(\u001b[0m\u001b[0msample_list\u001b[0m\u001b[0;34m)\u001b[0m\u001b[0;34m\u001b[0m\u001b[0;34m\u001b[0m\u001b[0m\n\u001b[1;32m      6\u001b[0m \u001b[0mprint\u001b[0m\u001b[0;34m(\u001b[0m\u001b[0;34m'Tuple list is: '\u001b[0m\u001b[0;34m,\u001b[0m\u001b[0mt\u001b[0m\u001b[0;34m)\u001b[0m\u001b[0;34m\u001b[0m\u001b[0;34m\u001b[0m\u001b[0m\n\u001b[0;32m----> 7\u001b[0;31m \u001b[0ma\u001b[0m \u001b[0;34m=\u001b[0m \u001b[0mmin\u001b[0m\u001b[0;34m(\u001b[0m\u001b[0msample_list\u001b[0m\u001b[0;34m)\u001b[0m\u001b[0;34m\u001b[0m\u001b[0;34m\u001b[0m\u001b[0m\n\u001b[0m\u001b[1;32m      8\u001b[0m \u001b[0mprint\u001b[0m\u001b[0;34m(\u001b[0m\u001b[0;34m'Minimum number is:'\u001b[0m\u001b[0;34m,\u001b[0m\u001b[0ma\u001b[0m\u001b[0;34m)\u001b[0m\u001b[0;34m\u001b[0m\u001b[0;34m\u001b[0m\u001b[0m\n\u001b[1;32m      9\u001b[0m \u001b[0mb\u001b[0m \u001b[0;34m=\u001b[0m \u001b[0mmax\u001b[0m\u001b[0;34m(\u001b[0m\u001b[0msample_list\u001b[0m\u001b[0;34m)\u001b[0m\u001b[0;34m\u001b[0m\u001b[0;34m\u001b[0m\u001b[0m\n",
            "\u001b[0;31mTypeError\u001b[0m: 'int' object is not callable"
          ]
        }
      ]
    }
  ]
}