{
  "nbformat": 4,
  "nbformat_minor": 0,
  "metadata": {
    "colab": {
      "name": "Functions Exercise.ipynb",
      "provenance": [],
      "authorship_tag": "ABX9TyPT5r70Ll9DrfmR6u5IUr+1",
      "include_colab_link": true
    },
    "kernelspec": {
      "name": "python3",
      "display_name": "Python 3"
    },
    "language_info": {
      "name": "python"
    }
  },
  "cells": [
    {
      "cell_type": "markdown",
      "metadata": {
        "id": "view-in-github",
        "colab_type": "text"
      },
      "source": [
        "<a href=\"https://colab.research.google.com/github/hydermbs/Python-exercise/blob/main/Functions_Exercise.ipynb\" target=\"_parent\"><img src=\"https://colab.research.google.com/assets/colab-badge.svg\" alt=\"Open In Colab\"/></a>"
      ]
    },
    {
      "cell_type": "markdown",
      "source": [
        "**Exercise 1: Create a function in Python**\n",
        "\n",
        "Write a program to create a function that takes two arguments, name and age, and print their value."
      ],
      "metadata": {
        "id": "L8ynOWfpUr0U"
      }
    },
    {
      "cell_type": "code",
      "execution_count": 1,
      "metadata": {
        "colab": {
          "base_uri": "https://localhost:8080/"
        },
        "id": "KmbN2JQ9Uo2B",
        "outputId": "a7280c28-61c0-4046-a639-23d03f2b244a"
      },
      "outputs": [
        {
          "output_type": "stream",
          "name": "stdout",
          "text": [
            "My name is  Hyder\n",
            "My age is  31\n"
          ]
        }
      ],
      "source": [
        "def data(name,age):\n",
        "  print('My name is ',name)\n",
        "  print('My age is ',age)\n",
        "data('Hyder',31)"
      ]
    },
    {
      "cell_type": "markdown",
      "source": [
        "**Exercise 2: Create a function with variable length of arguments**\n",
        "\n",
        "Write a program to create function func1() to accept a variable length of arguments and print their value.\n",
        "\n",
        "Note: Create a function in such a way that we can pass any number of arguments to this function and the function should process them and display each argument’s value."
      ],
      "metadata": {
        "id": "d01anIRsVXSD"
      }
    },
    {
      "cell_type": "code",
      "source": [
        "def variable(*numbers):\n",
        "  print(numbers)\n",
        "variable(2,3,5)\n",
        "variable(3,5)\n",
        "\n",
        "#We can also write it like this\n",
        "print('\\n')\n",
        "def func1(*args):\n",
        "  for i in args:\n",
        "    print(i)\n",
        "func1(2,3,5)\n",
        "print('\\n')\n",
        "func1(3,6)"
      ],
      "metadata": {
        "colab": {
          "base_uri": "https://localhost:8080/"
        },
        "id": "SHt0ZWylVeLi",
        "outputId": "122f522a-0a13-4975-b2d1-a9f6c75cd315"
      },
      "execution_count": 6,
      "outputs": [
        {
          "output_type": "stream",
          "name": "stdout",
          "text": [
            "(2, 3, 5)\n",
            "(3, 5)\n",
            "\n",
            "\n",
            "2\n",
            "3\n",
            "5\n",
            "\n",
            "\n",
            "3\n",
            "6\n"
          ]
        }
      ]
    },
    {
      "cell_type": "markdown",
      "source": [
        "**Exercise 3: Return multiple values from a function**\n",
        "\n",
        "Write a program to create function calculation() such that it can accept two variables and calculate addition and subtraction. Also, it must return both addition and subtraction in a single return call.\n",
        "\n",
        "Given:"
      ],
      "metadata": {
        "id": "quLkiZcPW83J"
      }
    },
    {
      "cell_type": "code",
      "source": [
        "def calculation(a, b):\n",
        "  addition = a+b\n",
        "  subtraction = a-b\n",
        "  return addition, subtraction\n",
        "\n",
        "res = calculation(40, 10)\n",
        "print(res)"
      ],
      "metadata": {
        "colab": {
          "base_uri": "https://localhost:8080/"
        },
        "id": "1VGEVAxWXMeD",
        "outputId": "766a359b-7458-418e-d02e-7747241d25e0"
      },
      "execution_count": 8,
      "outputs": [
        {
          "output_type": "stream",
          "name": "stdout",
          "text": [
            "(50, 30)\n"
          ]
        }
      ]
    },
    {
      "cell_type": "markdown",
      "source": [
        "**Exercise 4: Create a function with default argument**\n",
        "\n",
        "Write a program to create a function show_employee() using the following conditions.\n",
        "\n",
        "It should accept the employee’s name and salary and display both.\n",
        "If the salary is missing in the function call then assign default value 9000 to salary:"
      ],
      "metadata": {
        "id": "PR3A6jbmXvCb"
      }
    },
    {
      "cell_type": "code",
      "source": [
        "def show_employee(name,salary=9000):\n",
        "  print('employee name: ',name,'Employee Salary:',salary)\n",
        "show_employee('Ben',12000)\n",
        "show_employee('Jessa')"
      ],
      "metadata": {
        "colab": {
          "base_uri": "https://localhost:8080/"
        },
        "id": "zH2P6CYiX7M3",
        "outputId": "95ea505b-b095-487a-fecc-455c0e4c3a9f"
      },
      "execution_count": 10,
      "outputs": [
        {
          "output_type": "stream",
          "name": "stdout",
          "text": [
            "employee name:  Ben Employee Salary: 12000\n",
            "employee name:  Jessa Employee Salary: 9000\n"
          ]
        }
      ]
    },
    {
      "cell_type": "markdown",
      "source": [
        "**Exercise 5: Create an inner function to calculate the addition in the following way**\n",
        "\n",
        "Create an outer function that will accept two parameters, a and b\n",
        "Create an inner function inside an outer function that will calculate the addition of a and b\n",
        "At last, an outer function will add 5 into addition and return it"
      ],
      "metadata": {
        "id": "UD3UxxSrYmJi"
      }
    },
    {
      "cell_type": "code",
      "source": [
        "def out(a,b):\n",
        "  def addition(a,b):\n",
        "    return a+b\n",
        "  add = addition(a,b)\n",
        "  return add+5\n",
        "result=out(5,10)\n",
        "print(result)\n"
      ],
      "metadata": {
        "colab": {
          "base_uri": "https://localhost:8080/"
        },
        "id": "thL5DPaqYr7-",
        "outputId": "230b2a6c-53eb-4975-b1ee-87396bc0e740"
      },
      "execution_count": 13,
      "outputs": [
        {
          "output_type": "stream",
          "name": "stdout",
          "text": [
            "20\n"
          ]
        }
      ]
    },
    {
      "cell_type": "markdown",
      "source": [
        "**Exercise 6: Create a recursive function**\n",
        "\n",
        "Write a program to **create a recursive function to calculate the sum of numbers** from 0 to 10.\n",
        "\n",
        "A recursive function is a function that calls itself, again and again.\n",
        "\n",
        "Expected Output:\n",
        "\n",
        "55"
      ],
      "metadata": {
        "id": "2il3-0qfa25g"
      }
    },
    {
      "cell_type": "code",
      "source": [
        "def func1(num):\n",
        "  if num:\n",
        "    return num + func1(num-1)\n",
        "  else:\n",
        "    return 0\n",
        "res = func1(10)\n",
        "print(res)"
      ],
      "metadata": {
        "colab": {
          "base_uri": "https://localhost:8080/"
        },
        "id": "VaePYIHsbExh",
        "outputId": "9de33ded-11aa-4c07-d9f5-e714e07fcdd2"
      },
      "execution_count": 15,
      "outputs": [
        {
          "output_type": "stream",
          "name": "stdout",
          "text": [
            "55\n"
          ]
        }
      ]
    },
    {
      "cell_type": "markdown",
      "source": [
        "**Exercise 7: Assign a different name to function and call it through the new name**\n",
        "\n",
        "Below is the function display_student(name, age). Assign a new name show_tudent(name, age) to it and call it using the new name."
      ],
      "metadata": {
        "id": "EdbY5t0Id1P6"
      }
    },
    {
      "cell_type": "code",
      "source": [
        "def display_student(name,age):\n",
        "  print(name,age)\n",
        "display_student('Emma',26)\n",
        "show_student = display_student\n",
        "show_student('Hyder',31)"
      ],
      "metadata": {
        "colab": {
          "base_uri": "https://localhost:8080/"
        },
        "id": "xtfXNWf5d75D",
        "outputId": "68b9f05f-b779-4098-dbe0-62120c25b7c7"
      },
      "execution_count": 16,
      "outputs": [
        {
          "output_type": "stream",
          "name": "stdout",
          "text": [
            "Emma 26\n",
            "Hyder 31\n"
          ]
        }
      ]
    },
    {
      "cell_type": "markdown",
      "source": [
        "**Exercise 8: Generate a Python list of all the even numbers between 4 to 30**"
      ],
      "metadata": {
        "id": "IMS_sXjGevW9"
      }
    },
    {
      "cell_type": "code",
      "source": [
        "print(list(range(4,30,2)))"
      ],
      "metadata": {
        "colab": {
          "base_uri": "https://localhost:8080/"
        },
        "id": "5DDK0z-Texyc",
        "outputId": "f46241ac-194b-48ea-9a4c-ef2edbbdf2f6"
      },
      "execution_count": 19,
      "outputs": [
        {
          "output_type": "stream",
          "name": "stdout",
          "text": [
            "[4, 6, 8, 10, 12, 14, 16, 18, 20, 22, 24, 26, 28]\n"
          ]
        }
      ]
    },
    {
      "cell_type": "markdown",
      "source": [
        "**Exercise 9: Find the largest item from a given list**\n",
        "\n",
        "x = [4, 6, 8, 24, 12, 2]"
      ],
      "metadata": {
        "id": "-KN2C-CEfN9j"
      }
    },
    {
      "cell_type": "code",
      "source": [
        "x = [4, 6, 8, 24, 12, 2]\n",
        "print(max(x))"
      ],
      "metadata": {
        "colab": {
          "base_uri": "https://localhost:8080/"
        },
        "id": "EZpWvfMgfXSm",
        "outputId": "6e3e7983-a035-49f3-d4bb-e7c47fe927a1"
      },
      "execution_count": 20,
      "outputs": [
        {
          "output_type": "stream",
          "name": "stdout",
          "text": [
            "24\n"
          ]
        }
      ]
    }
  ]
}