{
  "nbformat": 4,
  "nbformat_minor": 0,
  "metadata": {
    "colab": {
      "name": "oop_exercies.ipynb",
      "provenance": [],
      "collapsed_sections": [],
      "authorship_tag": "ABX9TyPWJ0Yy9gfmssXSQZqTECCF",
      "include_colab_link": true
    },
    "kernelspec": {
      "name": "python3",
      "display_name": "Python 3"
    },
    "language_info": {
      "name": "python"
    }
  },
  "cells": [
    {
      "cell_type": "markdown",
      "metadata": {
        "id": "view-in-github",
        "colab_type": "text"
      },
      "source": [
        "<a href=\"https://colab.research.google.com/github/hydermbs/Python-exercise/blob/main/oop_exercies.ipynb\" target=\"_parent\"><img src=\"https://colab.research.google.com/assets/colab-badge.svg\" alt=\"Open In Colab\"/></a>"
      ]
    },
    {
      "cell_type": "markdown",
      "source": [
        "**OOP Exercise 1: Create a Class with instance attributes**\n",
        "\n",
        "Write a Python program to create a Vehicle class with max_speed and mileage instance attributes."
      ],
      "metadata": {
        "id": "ZgqhkxItZHjo"
      }
    },
    {
      "cell_type": "code",
      "execution_count": null,
      "metadata": {
        "colab": {
          "base_uri": "https://localhost:8080/"
        },
        "id": "zRoFfKB3Y8o0",
        "outputId": "2ff6b622-c68a-4cfa-8b57-444007714f5c"
      },
      "outputs": [
        {
          "output_type": "stream",
          "name": "stdout",
          "text": [
            "240 18\n"
          ]
        }
      ],
      "source": [
        "class Vehicle:\n",
        "  def __init__(self,max_speed,mileage):\n",
        "    self.max_speed = max_speed\n",
        "    self.mileage = mileage\n",
        "modelX = Vehicle(240, 18)\n",
        "print(modelX.max_speed, modelX.mileage)"
      ]
    },
    {
      "cell_type": "markdown",
      "source": [
        "**OOP Exercise 2: Create a Vehicle class without any variables and methods**"
      ],
      "metadata": {
        "id": "_fUtXql-cXUe"
      }
    },
    {
      "cell_type": "code",
      "source": [
        "class Vehicle:\n",
        "  pass"
      ],
      "metadata": {
        "id": "_VvPer6JcYy8"
      },
      "execution_count": null,
      "outputs": []
    },
    {
      "cell_type": "markdown",
      "source": [
        "**OOP Exercise 3: Create a child class Bus that will inherit all of the variables and methods of the Vehicle class**\n",
        "\n"
      ],
      "metadata": {
        "id": "3J2eXgiYfEt8"
      }
    },
    {
      "cell_type": "code",
      "source": [
        "class Vehicle:\n",
        "\n",
        "    def __init__(self, name, max_speed, mileage):\n",
        "        self.name = name\n",
        "        self.max_speed = max_speed\n",
        "        self.mileage = mileage\n",
        "class Bus(Vehicle):\n",
        "  pass\n",
        "school_bus = Bus('Volvo',80,14)\n",
        "print('School Bus name is:',school_bus.name,'- Mileage:',school_bus.mileage,'- Max Speed:',school_bus.max_speed)"
      ],
      "metadata": {
        "colab": {
          "base_uri": "https://localhost:8080/"
        },
        "id": "9UhSNx0ne-CU",
        "outputId": "6ed4bef7-2736-4b89-f140-da446a9236d2"
      },
      "execution_count": null,
      "outputs": [
        {
          "output_type": "stream",
          "name": "stdout",
          "text": [
            "School Bus name is: Volvo - Mileage: 14 - Max Speed: 80\n"
          ]
        }
      ]
    },
    {
      "cell_type": "markdown",
      "source": [
        "**OOP Exercise 4: Class Inheritance**\n",
        "\n",
        "**Given:**\n",
        "\n",
        "Create a Bus class that inherits from the Vehicle class. Give the capacity argument of Bus.seating_capacity() a default value of 50.\n",
        "\n",
        "Use the following code for your parent Vehicle class."
      ],
      "metadata": {
        "id": "13w91hs6kIHo"
      }
    },
    {
      "cell_type": "code",
      "source": [
        "class Vehicle:\n",
        "    def __init__(self, name, max_speed, mileage):\n",
        "        self.name = name\n",
        "        self.max_speed = max_speed\n",
        "        self.mileage = mileage\n",
        "\n",
        "    def seating_capacity(self, capacity):\n",
        "        return f\"The seating capacity of a {self.name} is {capacity} passengers\"\n",
        "class Bus(Vehicle):\n",
        "  def seating_capacity(self, capacity=50):\n",
        "    return super ().seating_capacity(capacity=50)\n",
        "school_bus = Bus('Volvo',150,20)\n",
        "print(school_bus.seating_capacity())"
      ],
      "metadata": {
        "colab": {
          "base_uri": "https://localhost:8080/"
        },
        "id": "1ZcM2R81chNR",
        "outputId": "dfd4a9f3-23df-4d05-b793-d06d396b2710"
      },
      "execution_count": 9,
      "outputs": [
        {
          "output_type": "stream",
          "name": "stdout",
          "text": [
            "The seating capacity of a Volvo is 50 passengers\n"
          ]
        }
      ]
    },
    {
      "cell_type": "markdown",
      "source": [
        "**OOP Exercise 5: Define a property that must have the same value for every class instance (object)**\n",
        "\n",
        "Define a class attribute”color” with a default value white. I.e., Every Vehicle should be white.\n",
        "\n",
        "Use the following code for this exercise."
      ],
      "metadata": {
        "id": "jxq07-A0oM0V"
      }
    },
    {
      "cell_type": "code",
      "source": [
        "class Vehicle:\n",
        "\n",
        "    def __init__(self, name, max_speed, mileage,color):\n",
        "        self.name = name\n",
        "        self.max_speed = max_speed\n",
        "        self.mileage = mileage\n",
        "        self.color = color\n",
        "\n",
        "class Bus(Vehicle):\n",
        "    pass\n",
        "\n",
        "class Car(Vehicle):\n",
        "    pass\n",
        "ob1 = Bus('Volvo','120km/hr','4km','White')\n",
        "ob2 = Car('Ferrari','250km/hr','8km','White')\n",
        "print('Bus name is:',ob1.name,'Bus Color is:',ob1.color,'Bus Speed is',ob1.max_speed,'Bus Mileage is:',ob1.mileage)\n",
        "print('Car name is:',ob2.name,'Car Color is:',ob2.color,'Car Speed is',ob2.max_speed,'Car Mileage is:',ob2.mileage)"
      ],
      "metadata": {
        "colab": {
          "base_uri": "https://localhost:8080/"
        },
        "id": "CocXvyMgoSqy",
        "outputId": "ae4f6ce5-f4d4-401b-b1a8-e1adba203d67"
      },
      "execution_count": 10,
      "outputs": [
        {
          "output_type": "stream",
          "name": "stdout",
          "text": [
            "Bus name is: Volvo Bus Color is: White Bus Speed is 120km/hr Bus Mileage is: 4km\n",
            "Car name is: Ferrari Car Color is: White Car Speed is 250km/hr Car Mileage is: 8km\n"
          ]
        }
      ]
    },
    {
      "cell_type": "markdown",
      "source": [
        "**OOP Exercise 6: Class Inheritance**\n",
        "\n",
        "**Given:**\n",
        "\n",
        "Create a **Bus** child class that inherits from the Vehicle class. The default fare charge of any vehicle is **seating capacity * 100**. If Vehicle is **Bus** instance, we need to add an extra 10% on full fare as a maintenance charge. So total fare for bus instance will become the **final amount = total fare + 10% of the total fare.**\n",
        "\n",
        "Note: The bus seating capacity is **50**. so the final fare amount should be **5500**. You need to override the fare() method of a Vehicle class in Bus class.\n",
        "\n",
        "Use the following code for your parent Vehicle class. We need to access the parent class from inside a method of a child class."
      ],
      "metadata": {
        "id": "R2smhhrnpzOJ"
      }
    },
    {
      "cell_type": "code",
      "source": [
        "class Vehicle:\n",
        "    def __init__(self, name, mileage, capacity):\n",
        "        self.name = name\n",
        "        self.mileage = mileage\n",
        "        self.capacity = capacity\n",
        "\n",
        "    def fare(self):\n",
        "        return self.capacity * 100\n",
        "\n",
        "class Bus(Vehicle):\n",
        "  def fare(self):\n",
        "    amount = super().fare()\n",
        "    amount+=amount*10/100\n",
        "    return amount\n",
        "\n",
        "School_bus = Bus(\"School Volvo\", 12, 50)\n",
        "print(\"Total Bus fare is:\", School_bus.fare())"
      ],
      "metadata": {
        "colab": {
          "base_uri": "https://localhost:8080/"
        },
        "id": "zZ-l-QHgqFt_",
        "outputId": "2671a44f-36ed-4835-ab50-67a155e06045"
      },
      "execution_count": 14,
      "outputs": [
        {
          "output_type": "stream",
          "name": "stdout",
          "text": [
            "Total Bus fare is: 5500.0\n"
          ]
        }
      ]
    },
    {
      "cell_type": "markdown",
      "source": [
        "\n",
        "**OOP Exercise 7: Check type of an object**\n",
        "\n",
        "Write a program to determine which class a given Bus object belongs to.\n",
        "\n",
        "Given:"
      ],
      "metadata": {
        "id": "g5DuoOWQr7eb"
      }
    },
    {
      "cell_type": "code",
      "source": [
        "class Vehicle:\n",
        "    def __init__(self, name, mileage, capacity):\n",
        "        self.name = name\n",
        "        self.mileage = mileage\n",
        "        self.capacity = capacity\n",
        "\n",
        "class Bus(Vehicle):\n",
        "    pass\n",
        "\n",
        "School_bus = Bus(\"School Volvo\", 12, 50)\n",
        "print(type(school_bus))"
      ],
      "metadata": {
        "colab": {
          "base_uri": "https://localhost:8080/"
        },
        "id": "U7ZVpFIgsCW4",
        "outputId": "2ef7c73c-e8e5-4bb1-e08d-e89cefd2dbda"
      },
      "execution_count": 16,
      "outputs": [
        {
          "output_type": "stream",
          "name": "stdout",
          "text": [
            "<class '__main__.Bus'>\n"
          ]
        }
      ]
    },
    {
      "cell_type": "markdown",
      "source": [
        "**OOP Exercise 8: Determine if School_bus is also an instance of the Vehicle class**\n",
        "\n",
        "Given:"
      ],
      "metadata": {
        "id": "S_6_S8bMsjSh"
      }
    },
    {
      "cell_type": "code",
      "source": [
        "class Vehicle:\n",
        "    def __init__(self, name, mileage, capacity):\n",
        "        self.name = name\n",
        "        self.mileage = mileage\n",
        "        self.capacity = capacity\n",
        "\n",
        "class Bus(Vehicle):\n",
        "    pass\n",
        "\n",
        "School_bus = Bus(\"School Volvo\", 12, 50)\n",
        "print(isinstance(school_bus,Vehicle))"
      ],
      "metadata": {
        "colab": {
          "base_uri": "https://localhost:8080/"
        },
        "id": "y-Cr84W7snGb",
        "outputId": "a944100d-7d84-4df6-cbe9-88934fda52e2"
      },
      "execution_count": 18,
      "outputs": [
        {
          "output_type": "stream",
          "name": "stdout",
          "text": [
            "False\n"
          ]
        }
      ]
    }
  ]
}