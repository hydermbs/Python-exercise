{
  "nbformat": 4,
  "nbformat_minor": 0,
  "metadata": {
    "colab": {
      "name": "List Exercise.ipynb",
      "provenance": [],
      "authorship_tag": "ABX9TyMO5Xl6C0T6BmCHcH753ZjH",
      "include_colab_link": true
    },
    "kernelspec": {
      "name": "python3",
      "display_name": "Python 3"
    },
    "language_info": {
      "name": "python"
    }
  },
  "cells": [
    {
      "cell_type": "markdown",
      "metadata": {
        "id": "view-in-github",
        "colab_type": "text"
      },
      "source": [
        "<a href=\"https://colab.research.google.com/github/hydermbs/Python-exercise/blob/main/List_Exercise.ipynb\" target=\"_parent\"><img src=\"https://colab.research.google.com/assets/colab-badge.svg\" alt=\"Open In Colab\"/></a>"
      ]
    },
    {
      "cell_type": "markdown",
      "source": [
        "**Exercise 1: Reverse a list in Python**\n",
        "\n",
        "**Given:**\n",
        "\n",
        "list1 = [100, 200, 300, 400, 500]"
      ],
      "metadata": {
        "id": "aDQz0BsNVd5_"
      }
    },
    {
      "cell_type": "code",
      "execution_count": 2,
      "metadata": {
        "colab": {
          "base_uri": "https://localhost:8080/"
        },
        "id": "kVMNtWIfTBDD",
        "outputId": "70c5966a-790e-4a46-fbab-5d430da885f0"
      },
      "outputs": [
        {
          "output_type": "stream",
          "name": "stdout",
          "text": [
            "List is : [100, 200, 300, 400, 500]\n",
            "\n",
            "\n",
            "Reverse List is:  [500, 400, 300, 200, 100]\n"
          ]
        }
      ],
      "source": [
        "list1 = [100, 200, 300, 400, 500]\n",
        "print('List is :',list1)\n",
        "print('\\n')\n",
        "list1.reverse()\n",
        "print('Reverse List is: ',list1)"
      ]
    },
    {
      "cell_type": "markdown",
      "source": [
        "**Exercise 2: Concatenate two lists index-wise**\n",
        "\n",
        "Write a program to add two lists index-wise. Create a new list that contains the 0th index item from both the list, then the 1st index item, and so on till the last element. any leftover items will get added at the end of the new list.\n",
        "\n",
        "**Given:**\n",
        "\n",
        "list1 = [\"M\", \"na\", \"i\", \"Ke\"]\n",
        "\n",
        "list2 = [\"y\", \"me\", \"s\", \"lly\"]"
      ],
      "metadata": {
        "id": "UuMimnMyWa9G"
      }
    },
    {
      "cell_type": "code",
      "source": [
        "list1 = [\"M\", \"na\", \"i\", \"Ke\"]\n",
        "\n",
        "list2 = [\"y\", \"me\", \"s\", \"lly\"]\n",
        "\n",
        "new_list = [i+j for i, j in zip(list1, list2)]\n",
        "\n",
        "print('New list is:', new_list)"
      ],
      "metadata": {
        "colab": {
          "base_uri": "https://localhost:8080/"
        },
        "id": "rTHGtZB4WqqI",
        "outputId": "dca67c0d-5456-4ccf-d156-63b18624b583"
      },
      "execution_count": 4,
      "outputs": [
        {
          "output_type": "stream",
          "name": "stdout",
          "text": [
            "New list is: ['My', 'name', 'is', 'Kelly']\n"
          ]
        }
      ]
    },
    {
      "cell_type": "markdown",
      "source": [
        "**Exercise 3: Turn every item of a list into its square**\n",
        "\n",
        "Given a list of numbers. write a program to turn every item of a list into its square.\n",
        "\n",
        "**Given:**\n",
        "\n",
        "numbers = [1, 2, 3, 4, 5, 6, 7]"
      ],
      "metadata": {
        "id": "yIrKvDFGXYP9"
      }
    },
    {
      "cell_type": "code",
      "source": [
        "list1 = [1, 2, 3, 4, 5, 6, 7]\n",
        "\n",
        "for i in range(0,len(list1)):\n",
        "  square = list1[i]*list1[i]\n",
        "  list1[i] = square\n",
        "print(list1)"
      ],
      "metadata": {
        "colab": {
          "base_uri": "https://localhost:8080/"
        },
        "id": "Xw9k-_5vXfcb",
        "outputId": "b2576b0a-91e7-447f-da98-e240a0bd61d2"
      },
      "execution_count": 9,
      "outputs": [
        {
          "output_type": "stream",
          "name": "stdout",
          "text": [
            "[1, 4, 9, 16, 25, 36, 49]\n"
          ]
        }
      ]
    },
    {
      "cell_type": "code",
      "source": [
        "list1 = [1, 2, 3, 4, 5, 6, 7]\n",
        "\n",
        "#add empty list as res\n",
        "res = []\n",
        "#run loop\n",
        "for i in list1:\n",
        "  res.append(i *  i)\n",
        "print(res)"
      ],
      "metadata": {
        "colab": {
          "base_uri": "https://localhost:8080/"
        },
        "id": "5ndCEVilYt2N",
        "outputId": "a8d0ee43-797f-41a3-d18e-2187daed4614"
      },
      "execution_count": 10,
      "outputs": [
        {
          "output_type": "stream",
          "name": "stdout",
          "text": [
            "[1, 4, 9, 16, 25, 36, 49]\n"
          ]
        }
      ]
    },
    {
      "cell_type": "code",
      "source": [
        "numbers = [1, 2, 3, 4, 5, 6, 7]\n",
        "res = [x * x for x in numbers]\n",
        "print(res)"
      ],
      "metadata": {
        "colab": {
          "base_uri": "https://localhost:8080/"
        },
        "id": "isBOKAorZLfx",
        "outputId": "e4d4afae-6574-4436-ef58-42aa709389a0"
      },
      "execution_count": 11,
      "outputs": [
        {
          "output_type": "stream",
          "name": "stdout",
          "text": [
            "[1, 4, 9, 16, 25, 36, 49]\n"
          ]
        }
      ]
    },
    {
      "cell_type": "markdown",
      "source": [
        "**Exercise 4: Concatenate two lists in the following order**\n",
        "\n",
        "list1 = [\"Hello \", \"take \"]\n",
        "\n",
        "list2 = [\"Dear\", \"Sir\"]"
      ],
      "metadata": {
        "id": "XgtPxztlZCa3"
      }
    },
    {
      "cell_type": "code",
      "source": [
        "list1 = [\"Hello \", \"take \"]\n",
        "\n",
        "list2 = [\"Dear\", \"Sir\"]\n",
        "\n",
        "new_list = [x + y for x in list1 for y in list2]\n",
        "\n",
        "print(new_list)"
      ],
      "metadata": {
        "colab": {
          "base_uri": "https://localhost:8080/"
        },
        "id": "xw-08VbXZYsP",
        "outputId": "532e79e4-aeda-4e5d-bc33-f77475415b2f"
      },
      "execution_count": 13,
      "outputs": [
        {
          "output_type": "stream",
          "name": "stdout",
          "text": [
            "['Hello Dear', 'Hello Sir', 'take Dear', 'take Sir']\n"
          ]
        }
      ]
    },
    {
      "cell_type": "code",
      "source": [
        "list1 = [\"Hello \", \"take \"]\n",
        "\n",
        "list2 = [\"Dear\", \"Sir\"]\n",
        "res = []\n",
        "for i in list1:\n",
        "  for j in list2:\n",
        "    res.append(i + j)\n",
        "print(res)"
      ],
      "metadata": {
        "colab": {
          "base_uri": "https://localhost:8080/"
        },
        "id": "JzsYI2mFZ-Y0",
        "outputId": "f831cea5-3b84-4642-8c7c-a8642b415d42"
      },
      "execution_count": 19,
      "outputs": [
        {
          "output_type": "stream",
          "name": "stdout",
          "text": [
            "['Hello Dear', 'Hello Sir', 'take Dear', 'take Sir']\n"
          ]
        }
      ]
    },
    {
      "cell_type": "markdown",
      "source": [
        "**Exercise 5: Iterate both lists simultaneously**\n",
        "\n",
        "Given a two Python list. Write a program to iterate both lists simultaneously and display items from list1 in original order and items from list2 in reverse order.\n",
        "\n",
        "**Given**\n",
        "\n",
        "list1 = [10, 20, 30, 40]\n",
        "\n",
        "list2 = [100, 200, 300, 400]"
      ],
      "metadata": {
        "id": "6d0GZRTUblbP"
      }
    },
    {
      "cell_type": "code",
      "source": [
        "list1 = [10, 20, 30, 40]\n",
        "\n",
        "list2 = [100, 200, 300, 400]\n",
        "\n",
        "for x,y in zip(list1, list2[::-1]):\n",
        "  print(x,y)"
      ],
      "metadata": {
        "colab": {
          "base_uri": "https://localhost:8080/"
        },
        "id": "NpH6pMSjbw3m",
        "outputId": "3554a997-10f6-4395-c02f-9c2f1f4f1493"
      },
      "execution_count": 22,
      "outputs": [
        {
          "output_type": "stream",
          "name": "stdout",
          "text": [
            "10 400\n",
            "20 300\n",
            "30 200\n",
            "40 100\n"
          ]
        }
      ]
    },
    {
      "cell_type": "markdown",
      "source": [
        "**Exercise 6: Remove empty strings from the list of strings**\n",
        "\n",
        "list1 = [\"Mike\", \"\", \"Emma\", \"Kelly\", \"\", \"Brad\"]"
      ],
      "metadata": {
        "id": "0TpngT4BceoY"
      }
    },
    {
      "cell_type": "code",
      "source": [
        "list1 = [\"Mike\", \"\", \"Emma\", \"Kelly\", \"\", \"Brad\"]\n",
        "res = list(filter(None,list1))\n",
        "print(res)"
      ],
      "metadata": {
        "colab": {
          "base_uri": "https://localhost:8080/"
        },
        "id": "C8m-u_Ceclk3",
        "outputId": "b082eeba-b1d3-4d9a-bbbf-ccd88fe55d8f"
      },
      "execution_count": 27,
      "outputs": [
        {
          "output_type": "stream",
          "name": "stdout",
          "text": [
            "['Mike', 'Emma', 'Kelly', 'Brad']\n"
          ]
        }
      ]
    },
    {
      "cell_type": "markdown",
      "source": [
        "**Exercise 7: Add new item to list after a specified item**\n",
        "\n",
        "Write a program to add item 7000 after 6000 in the following Python List\n",
        "\n",
        "**Given:**\n",
        "\n",
        "list1 = [10, 20, [300, 400, [5000, 6000], 500], 30, 40]"
      ],
      "metadata": {
        "id": "LyDrIdyCdB5a"
      }
    },
    {
      "cell_type": "code",
      "source": [
        "list1 = [10, 20, [300, 400, [5000, 6000], 500], 30, 40]\n",
        "\n",
        "# understand indexing\n",
        "# list1[0] = 10\n",
        "# list1[1] = 20\n",
        "# list1[2] = [300, 400, [5000, 6000], 500]\n",
        "# list1[2][2] = [5000, 6000]\n",
        "# list1[2][2][1] = 6000\n",
        "\n",
        "list1[2][2].append(7000)\n",
        "print(list1)"
      ],
      "metadata": {
        "colab": {
          "base_uri": "https://localhost:8080/"
        },
        "id": "mv64Fm0ZdPHc",
        "outputId": "93e5b32c-4fc2-4a66-8138-51e326141fef"
      },
      "execution_count": 28,
      "outputs": [
        {
          "output_type": "stream",
          "name": "stdout",
          "text": [
            "[10, 20, [300, 400, [5000, 6000, 7000], 500], 30, 40]\n"
          ]
        }
      ]
    },
    {
      "cell_type": "markdown",
      "source": [
        "**Exercise 8: Extend nested list by adding the sublist**\n",
        "\n",
        "You have given a nested list. Write a program to extend it by adding the sublist [\"h\", \"i\", \"j\"] in such a way that it will look like the following list.\n",
        "\n",
        "list1 = [\"a\", \"b\", [\"c\", [\"d\", \"e\", [\"f\", \"g\"], \"k\"], \"l\"], \"m\", \"n\"]\n",
        "\n",
        "['a', 'b', ['c', ['d', 'e', ['f', 'g', 'h', 'i', 'j'], 'k'], 'l'], 'm', 'n']\n"
      ],
      "metadata": {
        "id": "NkpzNRreeFHQ"
      }
    },
    {
      "cell_type": "code",
      "source": [
        "list1 = [\"a\", \"b\", [\"c\", [\"d\", \"e\", [\"f\", \"g\"], \"k\"], \"l\"], \"m\", \"n\"]\n",
        "sub_list = ['h','i','j']\n",
        "\n",
        "# understand indexing\n",
        "# list1[2] = ['c', ['d', 'e', ['f', 'g'], 'k'], 'l']\n",
        "# list1[2][1] = ['d', 'e', ['f', 'g'], 'k']\n",
        "# list1[2][1][2] = ['f', 'g']\n",
        "\n",
        "list1[2][1][2].extend(sub_list)\n",
        "print(list1)"
      ],
      "metadata": {
        "colab": {
          "base_uri": "https://localhost:8080/"
        },
        "id": "hj5jogo9eXyo",
        "outputId": "c9204a01-098b-46ad-a4c3-6215e201070a"
      },
      "execution_count": 29,
      "outputs": [
        {
          "output_type": "stream",
          "name": "stdout",
          "text": [
            "['a', 'b', ['c', ['d', 'e', ['f', 'g', 'h', 'i', 'j'], 'k'], 'l'], 'm', 'n']\n"
          ]
        }
      ]
    },
    {
      "cell_type": "markdown",
      "source": [
        "**Exercise 9: Replace list’s item with new value if found**\n",
        "\n",
        "You have given a Python list. Write a program to find value 20 in the list, and if it is present, replace it with 200. Only update the first occurrence of an item.\n",
        "\n",
        "**Given:**\n",
        "\n",
        "list1 = [5, 10, 15, 20, 25, 50, 20]"
      ],
      "metadata": {
        "id": "3npppAZJe-Oy"
      }
    },
    {
      "cell_type": "code",
      "source": [
        "list1 = [5, 10, 15, 20, 25, 50, 20]\n",
        "\n",
        "index = list1.index(20)\n",
        "\n",
        "list1[index] = 200\n",
        "\n",
        "print(list1)"
      ],
      "metadata": {
        "colab": {
          "base_uri": "https://localhost:8080/"
        },
        "id": "tLlNgF5lfFBf",
        "outputId": "a355f96e-5efd-45a4-c25b-b796e1732bc4"
      },
      "execution_count": 30,
      "outputs": [
        {
          "output_type": "stream",
          "name": "stdout",
          "text": [
            "[5, 10, 15, 200, 25, 50, 20]\n"
          ]
        }
      ]
    },
    {
      "cell_type": "markdown",
      "source": [
        "**Exercise 10: Remove all occurrences of a specific item from a list.**\n",
        "\n",
        "Given a Python list, write a program to remove all occurrences of item 20.\n",
        "\n",
        "**Given:**\n",
        "\n",
        "list1 = [5, 20, 15, 20, 25, 50, 20]"
      ],
      "metadata": {
        "id": "RfoPe981f-2c"
      }
    },
    {
      "cell_type": "code",
      "source": [
        "list1 =list([5, 20, 15, 20, 25, 50, 20])\n",
        "\n",
        "for i in list1:\n",
        "  if i == 20:\n",
        "    list1.remove(i)\n",
        "print(list1)"
      ],
      "metadata": {
        "colab": {
          "base_uri": "https://localhost:8080/"
        },
        "id": "wCmMgir_gH1U",
        "outputId": "4fbeb0a9-ab94-42aa-ab19-4643afc62063"
      },
      "execution_count": 44,
      "outputs": [
        {
          "output_type": "stream",
          "name": "stdout",
          "text": [
            "[5, 15, 25, 50]\n"
          ]
        }
      ]
    },
    {
      "cell_type": "code",
      "source": [
        "list1 = [5, 20, 15, 20, 25, 50, 20]\n",
        "\n",
        "# list comprehension\n",
        "# remove specific items and return a new list\n",
        "def remove_value(sample_list, val):\n",
        "    return [i for i in sample_list if i != val]\n",
        "\n",
        "res = remove_value(list1, 20)\n",
        "print(res)"
      ],
      "metadata": {
        "colab": {
          "base_uri": "https://localhost:8080/"
        },
        "id": "_M4fTerLjLwy",
        "outputId": "bfb15b76-d575-435c-ca55-fedf76502c8c"
      },
      "execution_count": 45,
      "outputs": [
        {
          "output_type": "stream",
          "name": "stdout",
          "text": [
            "[5, 15, 25, 50]\n"
          ]
        }
      ]
    },
    {
      "cell_type": "code",
      "source": [
        "list1 = [5, 20, 15, 20, 25, 50, 20]\n",
        "\n",
        "while 20 in list1:\n",
        "    list1.remove(20)\n",
        "print(list1)"
      ],
      "metadata": {
        "colab": {
          "base_uri": "https://localhost:8080/"
        },
        "id": "QXJ3V7lLjY6R",
        "outputId": "f4ed9931-c37d-4cd3-aa29-8634f3d430b1"
      },
      "execution_count": 46,
      "outputs": [
        {
          "output_type": "stream",
          "name": "stdout",
          "text": [
            "[5, 15, 25, 50]\n"
          ]
        }
      ]
    }
  ]
}