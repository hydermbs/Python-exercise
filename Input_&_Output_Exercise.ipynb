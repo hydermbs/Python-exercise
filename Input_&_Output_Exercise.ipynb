{
  "nbformat": 4,
  "nbformat_minor": 0,
  "metadata": {
    "colab": {
      "name": "Input & Output Exercise.ipynb",
      "provenance": [],
      "authorship_tag": "ABX9TyMjmzPn2Wck5sRrhn+qIp6X",
      "include_colab_link": true
    },
    "kernelspec": {
      "name": "python3",
      "display_name": "Python 3"
    },
    "language_info": {
      "name": "python"
    }
  },
  "cells": [
    {
      "cell_type": "markdown",
      "metadata": {
        "id": "view-in-github",
        "colab_type": "text"
      },
      "source": [
        "<a href=\"https://colab.research.google.com/github/hydermbs/Python-exercise/blob/main/Input_%26_Output_Exercise.ipynb\" target=\"_parent\"><img src=\"https://colab.research.google.com/assets/colab-badge.svg\" alt=\"Open In Colab\"/></a>"
      ]
    },
    {
      "cell_type": "markdown",
      "source": [
        "**Q:1 Accept numbers from a user?**\n",
        "Write a program to accept two numbers from the user and calculate multiplication."
      ],
      "metadata": {
        "id": "9TqG-JC9tiGY"
      }
    },
    {
      "cell_type": "code",
      "source": [
        "#First we will initialize variable and choose data type as int\n",
        "num1 = int(input('Enter First number '))\n",
        "num2 = int(input('Enter second number '))\n",
        "print('The answer is ',num1*num2)"
      ],
      "metadata": {
        "colab": {
          "base_uri": "https://localhost:8080/"
        },
        "id": "ucj-T7xRthnQ",
        "outputId": "3d423f85-a1b1-43ef-d86c-330633780d23"
      },
      "execution_count": 4,
      "outputs": [
        {
          "output_type": "stream",
          "name": "stdout",
          "text": [
            "Enter First number 5\n",
            "Enter second number 6\n",
            "The answer is  30\n"
          ]
        }
      ]
    },
    {
      "cell_type": "markdown",
      "source": [
        "**Exercise 2: Display three string “Name”, “Is”, “James” as “Name** Is** James”****\n",
        "Use the print() function to format the given words in the mentioned format. Display the ** separator between each string."
      ],
      "metadata": {
        "id": "SVxtrztKxnXA"
      }
    },
    {
      "cell_type": "code",
      "source": [
        "#we will use sep function to define the seperator between each string\n",
        "\n",
        "print('Name','is','James',sep='**')"
      ],
      "metadata": {
        "colab": {
          "base_uri": "https://localhost:8080/"
        },
        "id": "9HgUKtAYxxwJ",
        "outputId": "42c8bae8-cb25-4ac4-ee37-984c3eb2bfad"
      },
      "execution_count": 6,
      "outputs": [
        {
          "output_type": "stream",
          "name": "stdout",
          "text": [
            "Name**is**James\n"
          ]
        }
      ]
    },
    {
      "cell_type": "markdown",
      "source": [
        "**Exercise 3: Convert Decimal number to octal using print() output formatting**"
      ],
      "metadata": {
        "id": "YNdq6y9-yzoo"
      }
    },
    {
      "cell_type": "code",
      "source": [
        "#Use the %o formatting code in print() function to format decimal number to octal.\n",
        "\n",
        "num = 8\n",
        "\n",
        "#we have put value of 8,and octal numer of 8 is 10\n",
        "\n",
        "print('%o' %num)"
      ],
      "metadata": {
        "colab": {
          "base_uri": "https://localhost:8080/"
        },
        "id": "WVW4PLkPzBNi",
        "outputId": "b8947c4b-7d0a-4284-a990-b2ac2bb24263"
      },
      "execution_count": 7,
      "outputs": [
        {
          "output_type": "stream",
          "name": "stdout",
          "text": [
            "10\n"
          ]
        }
      ]
    },
    {
      "cell_type": "markdown",
      "source": [
        " **Display float number with 2 decimal places using print()**"
      ],
      "metadata": {
        "id": "0Pqm5D6p1UKj"
      }
    },
    {
      "cell_type": "code",
      "source": [
        "#Use the %.2f formatting code in print() function to format float number to two decimal places.\n",
        "num = 458.541315\n",
        "print('%.2f'%num)"
      ],
      "metadata": {
        "colab": {
          "base_uri": "https://localhost:8080/"
        },
        "id": "TOSkdaCX1fCZ",
        "outputId": "6dde085f-c99b-49ea-dc81-2eac84aebd46"
      },
      "execution_count": 9,
      "outputs": [
        {
          "output_type": "stream",
          "name": "stdout",
          "text": [
            "458.54\n"
          ]
        }
      ]
    },
    {
      "cell_type": "markdown",
      "source": [
        "**Exercise 5: Accept a list of 5 float numbers as an input from the user**"
      ],
      "metadata": {
        "id": "EUVZ6z0C2K2b"
      }
    },
    {
      "cell_type": "code",
      "source": [
        "#fisrt of all we create list veriable named number\n",
        "number= []\n",
        "#5 is the list size\n",
        "#run loop 5 times\n",
        "for i in range(0,5):\n",
        "  print('Enter your number ',i,\":\")\n",
        "  item= float(input())\n",
        "  number.append(item)\n",
        "print('User List is ',number)"
      ],
      "metadata": {
        "colab": {
          "base_uri": "https://localhost:8080/"
        },
        "id": "AAvsPAWP2XDW",
        "outputId": "9c58b23e-f1d5-497a-98a0-dd4568d7db5e"
      },
      "execution_count": 15,
      "outputs": [
        {
          "output_type": "stream",
          "name": "stdout",
          "text": [
            "Enter your number  0 :\n",
            "25.2\n",
            "Enter your number  1 :\n",
            "26.3\n",
            "Enter your number  2 :\n",
            "27.4\n",
            "Enter your number  3 :\n",
            "28.5\n",
            "Enter your number  4 :\n",
            "29.6\n",
            "User List is  [25.2, 26.3, 27.4, 28.5, 29.6]\n"
          ]
        }
      ]
    },
    {
      "cell_type": "markdown",
      "source": [
        "**Exercise 6: Accept any three string from one input() call**"
      ],
      "metadata": {
        "id": "hLWQsAQA5jmI"
      }
    },
    {
      "cell_type": "code",
      "source": [
        "#first we initialize variables with data type string:\n",
        "name1 = str(input())\n",
        "name2 = str(input())\n",
        "name3 = str(input())\n",
        "\n",
        "# we run a print command\n",
        "\n",
        "print('Name 1 : ',name1)\n",
        "print('Name 2 : ',name2)\n",
        "print('Name 3 : ',name3)\n",
        "\n",
        "# we can also take output by using split function:\n",
        "str1,str2,str3 = input('Enter 3 Names in it : ').split()\n",
        "print('Name 1 : ',str1)\n",
        "print('Name 2 : ',str2)\n",
        "print('Name 3 : ',str3)"
      ],
      "metadata": {
        "colab": {
          "base_uri": "https://localhost:8080/"
        },
        "id": "sW_Z1DcW5onm",
        "outputId": "8c98bb51-4080-4e9e-f28c-da2cc554d3dd"
      },
      "execution_count": 24,
      "outputs": [
        {
          "output_type": "stream",
          "name": "stdout",
          "text": [
            "James\n",
            "John\n",
            "Abraham\n",
            "Name 1 :  James\n",
            "Name 2 :  John\n",
            "Name 3 :  Abraham\n",
            "Enter 3 Names in it : Jimmy Johny Vicky\n",
            "Name 1 :  Jimmy\n",
            "Name 2 :  Johny\n",
            "Name 3 :  Vicky\n"
          ]
        }
      ]
    },
    {
      "cell_type": "markdown",
      "source": [
        "**Exercise 7: Format variables using a string.format() method.**\n",
        "Write a program to use string.format() method to format the following three variables as per the expected output"
      ],
      "metadata": {
        "id": "M1T6ORFf8B4F"
      }
    },
    {
      "cell_type": "code",
      "source": [
        "totalmoney = 1000\n",
        "quantity = 3\n",
        "price = 450\n",
        "#Expected Output : I have 1000 dollars so I can buy 3 football for 450.00 dollars.\n",
        "print('I have {0} dollars so I can but {2} footballs for {2:.2f} dollars'.format(totalmoney, quantity, price))\n"
      ],
      "metadata": {
        "colab": {
          "base_uri": "https://localhost:8080/"
        },
        "id": "il7V6d-y8K-T",
        "outputId": "cf7b5e91-128b-4c1e-d63e-9e7d474997c9"
      },
      "execution_count": 27,
      "outputs": [
        {
          "output_type": "stream",
          "name": "stdout",
          "text": [
            "I have 1000 dollars so I can but 450 footballs for 450.00 dollars\n"
          ]
        }
      ]
    },
    {
      "cell_type": "code",
      "source": [
        ""
      ],
      "metadata": {
        "id": "A1ouRI20-Zdz"
      },
      "execution_count": null,
      "outputs": []
    }
  ]
}