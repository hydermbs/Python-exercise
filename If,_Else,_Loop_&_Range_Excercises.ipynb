{
  "nbformat": 4,
  "nbformat_minor": 0,
  "metadata": {
    "colab": {
      "name": "If, Else, Loop & Range Excercises.ipynb",
      "provenance": [],
      "collapsed_sections": [],
      "authorship_tag": "ABX9TyPqqf76yy3tapopP4NlgsKf",
      "include_colab_link": true
    },
    "kernelspec": {
      "name": "python3",
      "display_name": "Python 3"
    },
    "language_info": {
      "name": "python"
    }
  },
  "cells": [
    {
      "cell_type": "markdown",
      "metadata": {
        "id": "view-in-github",
        "colab_type": "text"
      },
      "source": [
        "<a href=\"https://colab.research.google.com/github/hydermbs/Python-exercise/blob/main/If%2C_Else%2C_Loop_%26_Range_Excercises.ipynb\" target=\"_parent\"><img src=\"https://colab.research.google.com/assets/colab-badge.svg\" alt=\"Open In Colab\"/></a>"
      ]
    },
    {
      "cell_type": "markdown",
      "source": [
        "**Exercise 1: Print First 10 natural numbers using while loop**"
      ],
      "metadata": {
        "id": "TSAT8Dn2--TH"
      }
    },
    {
      "cell_type": "code",
      "execution_count": null,
      "metadata": {
        "colab": {
          "base_uri": "https://localhost:8080/"
        },
        "id": "syPxQFj72ogR",
        "outputId": "b3939d19-ff50-4aa0-e92b-5628b25cfeea"
      },
      "outputs": [
        {
          "output_type": "stream",
          "name": "stdout",
          "text": [
            "1\n",
            "2\n",
            "3\n",
            "4\n",
            "5\n",
            "6\n",
            "7\n",
            "8\n",
            "9\n",
            "10\n"
          ]
        }
      ],
      "source": [
        "count=1\n",
        "while count<11:\n",
        "  print(count)\n",
        "  count = count+1"
      ]
    },
    {
      "cell_type": "markdown",
      "source": [
        "**Exercise 2: Print the following pattern**\n",
        "![Screenshot.png](data:image/png;base64,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)"
      ],
      "metadata": {
        "id": "aeE1rIbz_zpZ"
      }
    },
    {
      "cell_type": "code",
      "source": [
        "print('here is pattern')\n",
        "#First we will enter rows qty\n",
        "row=5\n",
        "#Now we will run outer loop with for and range function:\n",
        "for i in range(1,row+1,1):\n",
        "  #will run second loop with i+1\n",
        "  for j in range(1,i+1):\n",
        "    print(j,end='')\n",
        "  print('')"
      ],
      "metadata": {
        "colab": {
          "base_uri": "https://localhost:8080/"
        },
        "id": "7FIhHZFsAQa5",
        "outputId": "dc844c01-d36a-4138-959b-1108eae92c0a"
      },
      "execution_count": null,
      "outputs": [
        {
          "output_type": "stream",
          "name": "stdout",
          "text": [
            "here is pattern\n",
            "1\n",
            "12\n",
            "123\n",
            "1234\n",
            "12345\n"
          ]
        }
      ]
    },
    {
      "cell_type": "markdown",
      "source": [
        "**Exercise 3: Calculate the sum of all numbers from 1 to a given number**\n",
        "Write a program to accept a number from a user and calculate the sum of all numbers from 1 to a given number\n",
        "\n",
        "For example, if the user entered 10 the output should be 55 (1+2+3+4+5+6+7+8+9+10)"
      ],
      "metadata": {
        "id": "dRws_vPKCZMQ"
      }
    },
    {
      "cell_type": "code",
      "source": [
        "#create variable to store the sum of all number:\n",
        "s=0\n",
        "num=int(input())\n",
        "# run loop n times\n",
        "# stop: n+1 (because range never include stop number in result)\n",
        "for i in range(1,num+1,1):\n",
        "   # add current number to sum variable\n",
        "  s+=i\n",
        "\n",
        "print('sum of all numbers',s)"
      ],
      "metadata": {
        "colab": {
          "base_uri": "https://localhost:8080/"
        },
        "id": "pFeA3XGUCi3F",
        "outputId": "856de26b-2979-400b-99e2-2ea8f5bd23ec"
      },
      "execution_count": null,
      "outputs": [
        {
          "output_type": "stream",
          "name": "stdout",
          "text": [
            "10\n",
            "sum of all numbers 55\n"
          ]
        }
      ]
    },
    {
      "cell_type": "markdown",
      "source": [
        "**Exercise 4: Write a program to print multiplication table of a given number**"
      ],
      "metadata": {
        "id": "DZwNAmn0FFxD"
      }
    },
    {
      "cell_type": "code",
      "source": [
        "#first we took input number:\n",
        "n=int(input())\n",
        "#we apply for loop with range 11 because loop does not count stop value:\n",
        "for i in range(1,11):\n",
        "  print(i*n)"
      ],
      "metadata": {
        "colab": {
          "base_uri": "https://localhost:8080/"
        },
        "id": "Rg7q2vQ3FPnE",
        "outputId": "66f4b9e6-337c-4a44-ab2e-d74a7f605cba"
      },
      "execution_count": null,
      "outputs": [
        {
          "output_type": "stream",
          "name": "stdout",
          "text": [
            "2\n",
            "2\n",
            "4\n",
            "6\n",
            "8\n",
            "10\n",
            "12\n",
            "14\n",
            "16\n",
            "18\n",
            "20\n"
          ]
        }
      ]
    },
    {
      "cell_type": "markdown",
      "source": [
        "**Exercise 5: Display numbers from a list using loop**\n",
        "Write a program to display only those numbers from a list that satisfy the following conditions\n",
        "\n",
        "The number must be divisible by five\n",
        "If the number is greater than 150, then skip it and move to the next number\n",
        "If the number is greater than 500, then stop the loop\n",
        "numbers = [12, 75, 150, 180, 145, 525, 50]\n"
      ],
      "metadata": {
        "id": "DiONzP9sGCav"
      }
    },
    {
      "cell_type": "code",
      "source": [
        "num = [12, 75, 150, 180, 145, 525, 50]\n",
        "#itterate each item from the list\n",
        "\n",
        "for i in num:\n",
        "  if i>500:\n",
        "    break\n",
        "  elif i>150:\n",
        "    continue\n",
        "  #check if number is divisible by 5\n",
        "  elif i%5==0:\n",
        "    print(i)"
      ],
      "metadata": {
        "colab": {
          "base_uri": "https://localhost:8080/"
        },
        "id": "KQGclbezGLP_",
        "outputId": "80521086-c004-4efb-d087-5b4f137ab434"
      },
      "execution_count": null,
      "outputs": [
        {
          "output_type": "stream",
          "name": "stdout",
          "text": [
            "75\n",
            "150\n",
            "145\n"
          ]
        }
      ]
    },
    {
      "cell_type": "markdown",
      "source": [
        "**Exercise 6: Count the total number of digits in a number**\n",
        "Write a program to count the total number of digits in a number using a while loop.\n",
        "\n",
        "For example, the number is 75869, so the output should be 5."
      ],
      "metadata": {
        "id": "WS6e09ryHQpb"
      }
    },
    {
      "cell_type": "code",
      "source": [
        "num=75869\n",
        "count=0\n",
        "while num !=0:\n",
        "  # floor division\n",
        "    # to reduce the last digit from number\n",
        "  num=num//10\n",
        "  # increment counter by 1\n",
        "  count=count+1\n",
        "print(count)"
      ],
      "metadata": {
        "colab": {
          "base_uri": "https://localhost:8080/"
        },
        "id": "03Sz35hrHW0a",
        "outputId": "c5fae4e2-8f32-4c3f-e74c-e2007fa2d164"
      },
      "execution_count": null,
      "outputs": [
        {
          "output_type": "stream",
          "name": "stdout",
          "text": [
            "5\n"
          ]
        }
      ]
    },
    {
      "cell_type": "markdown",
      "source": [
        "**Exercise 7: Print the following pattern**\n",
        "Write a program to use for loop to print the following reverse number pattern![Screenshot2 (2).png](data:image/png;base64,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)"
      ],
      "metadata": {
        "id": "IpOCdpIaImL1"
      }
    },
    {
      "cell_type": "code",
      "source": [
        "print('Here is reverse pattern')\n",
        "k=5\n",
        "for i in range(0,6):\n",
        "  for j in range(k-i,0,-1):\n",
        "    print(j,end=\"\")\n",
        "  print('')"
      ],
      "metadata": {
        "colab": {
          "base_uri": "https://localhost:8080/"
        },
        "id": "TrXQFZWZI3Xj",
        "outputId": "cbe6603c-0186-4f58-efba-71d55c81171e"
      },
      "execution_count": null,
      "outputs": [
        {
          "output_type": "stream",
          "name": "stdout",
          "text": [
            "Here is reverse pattern\n",
            "54321\n",
            "4321\n",
            "321\n",
            "21\n",
            "1\n",
            "\n"
          ]
        }
      ]
    },
    {
      "cell_type": "markdown",
      "source": [
        "**Exercise 8: Print list in reverse order using a loop**\n",
        "\n",
        "**Given:**\n",
        "\n",
        "list1 = [10, 20, 30, 40, 50]"
      ],
      "metadata": {
        "id": "ZGedtrVCKUaW"
      }
    },
    {
      "cell_type": "code",
      "source": [
        "list1= [10, 20, 30, 40, 50]\n",
        "newlist = reversed(list1)\n",
        "for item in newlist:\n",
        "  print(item)\n",
        "print('\\n')\n",
        "#second Solution\n",
        "\n",
        "list2 = [10, 20, 30, 40, 50]\n",
        "# get list size\n",
        "# len(list2) -1: because index start with 0\n",
        "# iterate list in reverse order\n",
        "# star from last item to first\n",
        "\n",
        "size = len(list2) - 1\n",
        "for i in range(size, -1, -1):\n",
        "    print(list1[i])"
      ],
      "metadata": {
        "colab": {
          "base_uri": "https://localhost:8080/"
        },
        "id": "mAYEXgG2J-zV",
        "outputId": "aed64cfc-de67-47aa-8d32-f162e93f6040"
      },
      "execution_count": null,
      "outputs": [
        {
          "output_type": "stream",
          "name": "stdout",
          "text": [
            "50\n",
            "40\n",
            "30\n",
            "20\n",
            "10\n",
            "\n",
            "\n",
            "50\n",
            "40\n",
            "30\n",
            "20\n",
            "10\n"
          ]
        }
      ]
    },
    {
      "cell_type": "markdown",
      "source": [
        "**Exercise 9: Display numbers from -10 to -1 using for loop**"
      ],
      "metadata": {
        "id": "M9WkHKbWLyot"
      }
    },
    {
      "cell_type": "code",
      "source": [
        "for i in range(-10,0):\n",
        "  print(i)"
      ],
      "metadata": {
        "colab": {
          "base_uri": "https://localhost:8080/"
        },
        "id": "riXg2NYPMBz7",
        "outputId": "5b332780-0685-4b94-a734-90683e1fd9d2"
      },
      "execution_count": null,
      "outputs": [
        {
          "output_type": "stream",
          "name": "stdout",
          "text": [
            "-10\n",
            "-9\n",
            "-8\n",
            "-7\n",
            "-6\n",
            "-5\n",
            "-4\n",
            "-3\n",
            "-2\n",
            "-1\n"
          ]
        }
      ]
    },
    {
      "cell_type": "markdown",
      "source": [
        "**Exercise 10: Use else block to display a message “Done” after successful execution of for loop**\n",
        "\n",
        "For example, the following loop will execute without any error.\n",
        "\n",
        "Given:\n",
        "\n",
        "for i in range(5):\n",
        "    print(i)"
      ],
      "metadata": {
        "id": "qiHf939qMZgY"
      }
    },
    {
      "cell_type": "code",
      "source": [
        "for i in range(5):\n",
        "  print(i)\n",
        "else:\n",
        "  print('done')"
      ],
      "metadata": {
        "colab": {
          "base_uri": "https://localhost:8080/"
        },
        "id": "OC3PqB5CMrl5",
        "outputId": "ea5363ac-f943-4157-b21b-345c3a9fa728"
      },
      "execution_count": null,
      "outputs": [
        {
          "output_type": "stream",
          "name": "stdout",
          "text": [
            "0\n",
            "1\n",
            "2\n",
            "3\n",
            "4\n",
            "done\n"
          ]
        }
      ]
    },
    {
      "cell_type": "markdown",
      "source": [
        "**Exercise 11: Write a program to display all prime numbers within a range**\n",
        "\n",
        "Note: A Prime Number is a number that cannot be made by multiplying other whole numbers. A prime number is a natural number greater than 1 that is not a product of two smaller natural numbers\n",
        "\n",
        "Examples:\n",
        "\n",
        "6 is not a prime mumber because it can be made by 2×3 = 6\n",
        "37 is a prime number because no other whole numbers multiply together to make it.\n",
        "Given:\n",
        "\n",
        "# range\n",
        "start = 25\n",
        "end = 50"
      ],
      "metadata": {
        "id": "PYFsOoC0M8md"
      }
    },
    {
      "cell_type": "code",
      "source": [
        "for num in range(25,51):\n",
        "  # all prime numbers are greater than 1\n",
        "  # if number is less than or equal to 1, it is not prime\n",
        "  if num>1:\n",
        "    for i in range(2,num):\n",
        "      if num%i==0:\n",
        "      # not a prime number so break inner loop and\n",
        "      # look for next number\n",
        "        break\n",
        "    else:\n",
        "      print(num)"
      ],
      "metadata": {
        "colab": {
          "base_uri": "https://localhost:8080/"
        },
        "id": "inMB4x99NHja",
        "outputId": "e5cfc770-11b8-4e5b-d797-ce672edd1be6"
      },
      "execution_count": null,
      "outputs": [
        {
          "output_type": "stream",
          "name": "stdout",
          "text": [
            "29\n",
            "31\n",
            "37\n",
            "41\n",
            "43\n",
            "47\n"
          ]
        }
      ]
    },
    {
      "cell_type": "markdown",
      "source": [
        "**Exercise 12: Display Fibonacci series up to 10 terms**\n",
        "\n",
        "The Fibonacci Sequence is a series of numbers. The next number is found by adding up the two numbers before it. The first two numbers are 0 and 1.\n",
        "\n",
        "For example, 0, 1, 1, 2, 3, 5, 8, 13, 21. The next number in this series above is 13+21 = 34."
      ],
      "metadata": {
        "id": "6mkv2wApPn1O"
      }
    },
    {
      "cell_type": "code",
      "source": [
        "#first two numbers\n",
        "num1, num2 = 0,1\n",
        "#run loop 10 times\n",
        "for i in range(10):\n",
        "  #print next number of series\n",
        "  print(num1,end =\" \")\n",
        "  # add last two numbers to get next number\n",
        "  res = num1 + num2\n",
        "  # update values\n",
        "  num1=num2\n",
        "  num2=res"
      ],
      "metadata": {
        "colab": {
          "base_uri": "https://localhost:8080/"
        },
        "id": "4IqE1smaPrEv",
        "outputId": "08dbdeac-39c7-4ba4-bd4d-fecf90360b10"
      },
      "execution_count": null,
      "outputs": [
        {
          "output_type": "stream",
          "name": "stdout",
          "text": [
            "0 1 1 2 3 5 8 13 21 34 "
          ]
        }
      ]
    },
    {
      "cell_type": "markdown",
      "source": [
        "**Exercise 13: Find the factorial of a given number**\n",
        "Write a program to use the loop to find the factorial of a given number.\n",
        "\n",
        "The factorial (symbol: !) means to multiply all whole numbers from the chosen number down to 1.\n",
        "\n",
        "For example: calculate the factorial of 5"
      ],
      "metadata": {
        "id": "MlVb2wzjROn9"
      }
    },
    {
      "cell_type": "code",
      "source": [
        "fac = 1\n",
        "for i in range(1,6,1):\n",
        "  fac=fac*i\n",
        "print(fac)"
      ],
      "metadata": {
        "colab": {
          "base_uri": "https://localhost:8080/"
        },
        "id": "3Kj149EXRSiA",
        "outputId": "32c65874-5a82-4510-f41f-ebdc87b6309c"
      },
      "execution_count": null,
      "outputs": [
        {
          "output_type": "stream",
          "name": "stdout",
          "text": [
            "120\n"
          ]
        }
      ]
    },
    {
      "cell_type": "markdown",
      "source": [
        "**Exercise 14: Reverse a given integer number**\n",
        "\n",
        "**Given:** \n",
        "\n",
        "76542\n",
        "\n",
        "**Expected output:**\n",
        "\n",
        "24567"
      ],
      "metadata": {
        "id": "OEXkEK2OVTg6"
      }
    },
    {
      "cell_type": "code",
      "source": [
        "num = 76542\n",
        "rev_num = 0\n",
        "print('given number : ', num)\n",
        "while num>0:\n",
        "  #we will apply modulus operator to get reminder\n",
        "  reminder = num%10\n",
        "  rev_num = (rev_num*10)+reminder\n",
        "  num = num//10\n",
        "print('Reverse Number :',rev_num)"
      ],
      "metadata": {
        "id": "lwpya8Z2Vedj",
        "colab": {
          "base_uri": "https://localhost:8080/"
        },
        "outputId": "c47e4d97-9432-47ef-d76c-3e5959d8d6d7"
      },
      "execution_count": 8,
      "outputs": [
        {
          "output_type": "stream",
          "name": "stdout",
          "text": [
            "given number :  76542\n",
            "Reverse Number : 24567\n"
          ]
        }
      ]
    },
    {
      "cell_type": "markdown",
      "source": [
        "**Exercise 15: Use a loop to display elements from a given list present at odd index positions**\n",
        "\n",
        "**Given:**\n",
        "\n",
        "*my_list = [10, 20, 30, 40, 50, 60, 70, 80, 90, 100]*"
      ],
      "metadata": {
        "id": "bQSuS-WeDmLR"
      }
    },
    {
      "cell_type": "code",
      "source": [
        "my_list = [10, 20, 30, 40, 50, 60, 70, 80, 90, 100]\n",
        "for i in my_list[1::2]:\n",
        "  print(i, end=\" \")"
      ],
      "metadata": {
        "colab": {
          "base_uri": "https://localhost:8080/"
        },
        "id": "DMATMdlODz0c",
        "outputId": "8c9e7777-dd6e-499b-c139-30e4b3581705"
      },
      "execution_count": 19,
      "outputs": [
        {
          "output_type": "stream",
          "name": "stdout",
          "text": [
            "20 40 60 80 100 "
          ]
        }
      ]
    },
    {
      "cell_type": "markdown",
      "source": [
        "**Exercise 16: Calculate the cube of all numbers from 1 to a given number**\n",
        "\n",
        "Write a program to rint the cube of all numbers from 1 to a given number \n",
        "\n",
        "Given:\n",
        "\n",
        "input_number = 6"
      ],
      "metadata": {
        "id": "8F7D3ieqFWa-"
      }
    },
    {
      "cell_type": "code",
      "source": [
        "num = int(input())\n",
        "c = 0\n",
        "\n",
        "for i in range (1,num+1):\n",
        "  c = i**3\n",
        "  print('Current number is :',i,'and the cube is:',c)\n"
      ],
      "metadata": {
        "colab": {
          "base_uri": "https://localhost:8080/"
        },
        "id": "5XsethYdFkIi",
        "outputId": "a3fb2760-72cb-4b9b-e2fd-1d4d34a05423"
      },
      "execution_count": 22,
      "outputs": [
        {
          "output_type": "stream",
          "name": "stdout",
          "text": [
            "6\n",
            "Current number is : 1 and the cube is: 1\n",
            "Current number is : 2 and the cube is: 8\n",
            "Current number is : 3 and the cube is: 27\n",
            "Current number is : 4 and the cube is: 64\n",
            "Current number is : 5 and the cube is: 125\n",
            "Current number is : 6 and the cube is: 216\n"
          ]
        }
      ]
    },
    {
      "cell_type": "markdown",
      "source": [
        "**Exercise 17: Find the sum of the series upto n terms**\n",
        "\n",
        "Write a program to calculate the sum of series up to n term. For example, if n =5 the series will become 2 + 22 + 222 + 2222 + 22222 = 24690"
      ],
      "metadata": {
        "id": "T7jozw-pG3Nx"
      }
    },
    {
      "cell_type": "code",
      "source": [
        "n = 5\n",
        "#first number of sequence\n",
        "\n",
        "start = 2\n",
        "sum_req = 0\n",
        "\n",
        "for i in range(0,num):\n",
        "  print(start, end = \"+\")\n",
        "  sum_req += start\n",
        "  start = start*10+2\n",
        "print(\"\\nSum of above series is:\", sum_req)\n",
        "\n"
      ],
      "metadata": {
        "colab": {
          "base_uri": "https://localhost:8080/"
        },
        "id": "nMuUB0bCHAXh",
        "outputId": "ab157607-5563-454a-f0dc-ec6351320e07"
      },
      "execution_count": 28,
      "outputs": [
        {
          "output_type": "stream",
          "name": "stdout",
          "text": [
            "2+22+222+2222+22222+222222+\n",
            "Sum of above series is: 246912\n"
          ]
        }
      ]
    },
    {
      "cell_type": "markdown",
      "source": [
        "**Exercise 18: Print the following pattern**\n",
        "\n",
        "Write a program to print the following start pattern using the for loop\n",
        "\n",
        "![Screenshot.png](data:image/png;base64,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)"
      ],
      "metadata": {
        "id": "-E8V8k4VIa6J"
      }
    },
    {
      "cell_type": "code",
      "source": [
        "row = 5\n",
        "# we divide this in two patterns\n",
        "for i in range (0,row,1):\n",
        "  for j in range(0,i+1):\n",
        "    print('*',end=\"\")\n",
        "  print('\\r')\n",
        "for i in range (row,0,-1):\n",
        "  for j in range(0,i-1):\n",
        "    print('*',end = \"\")\n",
        "  print('\\r')"
      ],
      "metadata": {
        "colab": {
          "base_uri": "https://localhost:8080/"
        },
        "id": "uBr2e46fIq-4",
        "outputId": "56d30238-6a06-436c-dcc6-22244443f2c2"
      },
      "execution_count": 36,
      "outputs": [
        {
          "output_type": "stream",
          "name": "stdout",
          "text": [
            "*\r\n",
            "**\r\n",
            "***\r\n",
            "****\r\n",
            "*****\r\n",
            "****\r\n",
            "***\r\n",
            "**\r\n",
            "*\r\n",
            "\r\n"
          ]
        }
      ]
    }
  ]
}