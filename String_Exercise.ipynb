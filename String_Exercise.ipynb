{
  "nbformat": 4,
  "nbformat_minor": 0,
  "metadata": {
    "colab": {
      "name": "String Exercise.ipynb",
      "provenance": [],
      "authorship_tag": "ABX9TyNsoZ+oBuBjuwRQHvG0Obcx",
      "include_colab_link": true
    },
    "kernelspec": {
      "name": "python3",
      "display_name": "Python 3"
    },
    "language_info": {
      "name": "python"
    }
  },
  "cells": [
    {
      "cell_type": "markdown",
      "metadata": {
        "id": "view-in-github",
        "colab_type": "text"
      },
      "source": [
        "<a href=\"https://colab.research.google.com/github/hydermbs/Python-exercise/blob/main/String_Exercise.ipynb\" target=\"_parent\"><img src=\"https://colab.research.google.com/assets/colab-badge.svg\" alt=\"Open In Colab\"/></a>"
      ]
    },
    {
      "cell_type": "markdown",
      "source": [
        "**Exercise 1A: Create a string made of the first, middle and last character**\n",
        "\n",
        "Write a program to create a new string made of an input string’s first, middle, and last character.\n",
        "\n",
        "Given:\n",
        "\n",
        "str1 = \"James\""
      ],
      "metadata": {
        "id": "PCFy6eJSjBSr"
      }
    },
    {
      "cell_type": "code",
      "execution_count": null,
      "metadata": {
        "colab": {
          "base_uri": "https://localhost:8080/"
        },
        "id": "Ts6gTxqqivwk",
        "outputId": "5984f423-a651-4020-d65c-c0958f46c81f"
      },
      "outputs": [
        {
          "output_type": "stream",
          "name": "stdout",
          "text": [
            "str1 is James\n",
            "new string:  Jms\n"
          ]
        }
      ],
      "source": [
        "str1='James'\n",
        "print('str1 is',str1)\n",
        "# Get first character\n",
        "res=str1[0]\n",
        "# Get string size\n",
        "l=len(str1)\n",
        "# Get middle index number\n",
        "mi = int(l/2)\n",
        "# Get middle character and add it to result\n",
        "res=res+str1[mi]\n",
        "# Get last character and add it to result\n",
        "res= res+str1[l-1]\n",
        "print('new string: ',res)\n"
      ]
    },
    {
      "cell_type": "markdown",
      "source": [
        "**Exercise 1B: Create a string made of the middle three characters**\n",
        "\n",
        "Write a program to create a new string made of the middle three characters of an input string.\n",
        "\n",
        "Given:\n",
        "\n",
        "Case 1   str1 = \"JhonDipPeta\"\n",
        "\n",
        "Case 2    str2 = \"JaSonAy\""
      ],
      "metadata": {
        "id": "C_JoLj0q0fPn"
      }
    },
    {
      "cell_type": "code",
      "source": [
        "def get_middle_str(str1):\n",
        "  print('Original Str is ', str1)\n",
        "  mi = int(len(str1)/2)\n",
        "  res = str1[mi-1:mi+2]\n",
        "  print('Middle Three Characters are: ',res)\n",
        "get_middle_str('JhonDipPeta')\n",
        "get_middle_str('JaSonAy')\n"
      ],
      "metadata": {
        "colab": {
          "base_uri": "https://localhost:8080/"
        },
        "id": "rD5xtKDC0vzZ",
        "outputId": "8c8631fa-5e1c-4355-c578-b592f41c11ba"
      },
      "execution_count": null,
      "outputs": [
        {
          "output_type": "stream",
          "name": "stdout",
          "text": [
            "Original Str is  JhonDipPeta\n",
            "Middle Three Characters are:  Dip\n",
            "Original Str is  JaSonAy\n",
            "Middle Three Characters are:  Son\n"
          ]
        }
      ]
    },
    {
      "cell_type": "markdown",
      "source": [
        "**Exercise 2: Append new string in the middle of a given string**\n",
        "\n",
        "Given two strings, s1 and s2. Write a program to create a new string s3 by appending s2 in the middle of s1.\n",
        "\n",
        "Given:\n",
        "\n",
        "s1 = \"Ault\"\n",
        "s2 = \"Kelly\""
      ],
      "metadata": {
        "id": "IV-vrTHV03Bx"
      }
    },
    {
      "cell_type": "code",
      "source": [
        "def append(str1, str2):\n",
        "  print('Original s1 & s2 is ',str1, str2)\n",
        "  l = len(str1)\n",
        "  mi = int(len(str1)/2)\n",
        "  x = str1[:mi:]\n",
        "  x = x + str2\n",
        "  x = x+ str1[mi:]\n",
        "  print('after appending new string in middile is ',x)\n",
        "append('Ault',  'Kelly')"
      ],
      "metadata": {
        "colab": {
          "base_uri": "https://localhost:8080/"
        },
        "id": "19jR4MXb1C0D",
        "outputId": "2368ce37-c223-4ccf-b089-ddffa9ae62be"
      },
      "execution_count": null,
      "outputs": [
        {
          "output_type": "stream",
          "name": "stdout",
          "text": [
            "Original s1 & s2 is  Ault Kelly\n",
            "after appending new string in middile is  AuKellylt\n"
          ]
        }
      ]
    },
    {
      "cell_type": "markdown",
      "source": [
        "**Exercise 3: Create a new string made of the first, middle, and last characters of each input string**\n",
        "Given two strings, s1 and s2, write a program to return a new string made of s1 and s2’s first, middle, and last characters.\n",
        "\n",
        "Given:\n",
        "\n",
        "s1 = \"America\"\n",
        "s2 = \"Japan\""
      ],
      "metadata": {
        "id": "73ej3SzU4xfH"
      }
    },
    {
      "cell_type": "code",
      "source": [
        "def mix_string(s1, s2):\n",
        "  #first we get first charcter:\n",
        "  f_char = s1[0] + s2[0]\n",
        "  #then we take middle character by length and divided by 2\n",
        "  mid_char = s1[int(len(s1)/2)] + s2[int(len(s2)/2)]\n",
        "  # We will take last character\n",
        "  last_char = s1[len(s1)-1] + s2[len(s2)-1]\n",
        "  #add all\n",
        "  res = f_char + mid_char + last_char\n",
        "  print('Mix string is ', res)\n",
        "mix_string('America', 'Japan')\n",
        "  "
      ],
      "metadata": {
        "colab": {
          "base_uri": "https://localhost:8080/"
        },
        "id": "r9Ksoozt43BK",
        "outputId": "e1944af7-a636-4f05-db19-37474eb00f37"
      },
      "execution_count": null,
      "outputs": [
        {
          "output_type": "stream",
          "name": "stdout",
          "text": [
            "Mix string is  AJrpan\n"
          ]
        }
      ]
    },
    {
      "cell_type": "markdown",
      "source": [
        "**Exercise 4: Arrange string characters such that lowercase letters should come first**\n",
        "\n",
        "Given string contains a combination of the lower and upper case letters. Write a program to arrange the characters of a string so that all lowercase letters should come first.\n",
        "\n",
        "Given:\n",
        "HydErKhan"
      ],
      "metadata": {
        "id": "WAU9797-8nCc"
      }
    },
    {
      "cell_type": "code",
      "source": [
        "str1 = 'HydErKhan'\n",
        "\n",
        "print('Original String : ',str1)\n",
        "lower=[]\n",
        "upper =[]\n",
        "for char in str1:\n",
        "  if char.islower():\n",
        "    lower.append(char)\n",
        "  else:\n",
        "    upper.append(char)\n",
        "\n",
        "\n",
        "sorted_str = ''.join(lower+upper)\n",
        "print(sorted_str)"
      ],
      "metadata": {
        "colab": {
          "base_uri": "https://localhost:8080/"
        },
        "id": "RV_OtvWP8tzH",
        "outputId": "71003f04-5799-4de2-d5fb-998c2d6135fc"
      },
      "execution_count": null,
      "outputs": [
        {
          "output_type": "stream",
          "name": "stdout",
          "text": [
            "Original String :  HydErKhan\n",
            "ydrhanHEK\n"
          ]
        }
      ]
    },
    {
      "cell_type": "markdown",
      "source": [
        "**Exercise 5: Count all letters, digits, and special symbols from a given string**\n",
        "\n",
        "**Given:**\n",
        "\n",
        "str1 = \"P@#yn26at^&i5ve\""
      ],
      "metadata": {
        "id": "g43Xiy8vNqYA"
      }
    },
    {
      "cell_type": "code",
      "source": [
        "def find_digits(str1):\n",
        "  char_count = 0\n",
        "  symbol = 0\n",
        "  digit = 0\n",
        "  for char in str1:\n",
        "    if char.isalpha():\n",
        "      char_count += 1\n",
        "    elif char.isdigit():\n",
        "      digit += 1\n",
        "    else:\n",
        "       symbol += 1\n",
        "  print('Ltrs Count = ', char_count, 'Symbol Count = ',symbol,'Digit Counts = ',digit)\n",
        "# str1 = 'P@#yn26at^&i5ve'\n",
        "print('Total count')\n",
        "find_digits('P@#yn26at^&i5ve')\n",
        "\n"
      ],
      "metadata": {
        "colab": {
          "base_uri": "https://localhost:8080/"
        },
        "id": "IOaVORIKN1p_",
        "outputId": "230b183c-780c-4689-bc43-68e4cbaf8544"
      },
      "execution_count": null,
      "outputs": [
        {
          "output_type": "stream",
          "name": "stdout",
          "text": [
            "Total count\n",
            "Ltrs Count =  8 Symbol Count =  4 Digit Counts =  3\n"
          ]
        }
      ]
    },
    {
      "cell_type": "markdown",
      "source": [
        "**Exercise 6: Create a mixed String using the following rules**\n",
        "\n",
        "Given two strings, s1 and s2. Write a program to create a new string s3 made of the first char of s1, then the last char of s2, Next, the second char of s1 and second last char of s2, and so on. Any leftover chars go at the end of the result.\n",
        "\n",
        "**Given:**\n",
        "s1 = \"Abc\"\n",
        "s2 = \"Xyz\""
      ],
      "metadata": {
        "id": "yCAMF2PvSK4R"
      }
    },
    {
      "cell_type": "code",
      "source": [
        "str1 = 'Abc'\n",
        "str2 = 'Xyz'\n",
        "\n",
        "#We take length of both strings\n",
        "\n",
        "s1_length = len(str1)\n",
        "s2_length = len(str2)\n",
        "\n",
        "#get length of bigger string\n",
        "\n",
        "length = s1_length if s1_length > s2_length else s2_length\n",
        "result = ''\n",
        "\n",
        "#reverse s2\n",
        "\n",
        "str2 = str2[::-1]\n",
        "\n",
        "# iterate string \n",
        "# s1 ascending and s2 descending\n",
        "\n",
        "for i in range (length):\n",
        "  if i < s1_length:\n",
        "    result = result + str1[i]\n",
        "  if i < s2_length:\n",
        "    result= result +str2[i]\n",
        "print(result)"
      ],
      "metadata": {
        "colab": {
          "base_uri": "https://localhost:8080/"
        },
        "id": "oH-4cC5lSgxW",
        "outputId": "31557b07-0352-4e2c-a040-8f8704d37897"
      },
      "execution_count": null,
      "outputs": [
        {
          "output_type": "stream",
          "name": "stdout",
          "text": [
            "AzbycX\n"
          ]
        }
      ]
    },
    {
      "cell_type": "markdown",
      "source": [
        "**Exercise 7: String characters balance Test**\n",
        "\n",
        "Write a program to check if two strings are balanced. For example, strings s1 and s2 are balanced if all the characters in the s1 are present in s2. The character’s position doesn’t matter.\n",
        "\n",
        "**Given:**\n",
        "\n",
        "Case 1:\n",
        "\n",
        "s1 = \"Yn\"\n",
        "s2 = \"PYnative\"\n",
        "\n",
        "Case 2:\n",
        "\n",
        "s1 = \"Ynf\"\n",
        "s2 = \"PYnative"
      ],
      "metadata": {
        "id": "7RkWPrViU8rP"
      }
    },
    {
      "cell_type": "code",
      "source": [
        "def string_balance(s1,s2):\n",
        "  flag = True\n",
        "  for char in s1:\n",
        "    if char in s2:\n",
        "      continue\n",
        "    else:\n",
        "      flag = False\n",
        "  return flag\n",
        "\n",
        "s1 = \"Yn\"\n",
        "s2 = \"PYnative\"\n",
        "flag = string_balance(s1, s2)\n",
        "print(\"s1 and s2 are balanced:\", flag)\n",
        "\n",
        "s1 = \"Ynf\"\n",
        "s2 = \"PYnative\"\n",
        "flag = string_balance(s1, s2)\n",
        "print(\"s1 and s2 are balanced:\", flag)"
      ],
      "metadata": {
        "colab": {
          "base_uri": "https://localhost:8080/"
        },
        "id": "Muo3VlUUVOWA",
        "outputId": "5b0525ee-b0bf-4830-f78b-72aa0c963e9d"
      },
      "execution_count": null,
      "outputs": [
        {
          "output_type": "stream",
          "name": "stdout",
          "text": [
            "s1 and s2 are balanced: True\n",
            "s1 and s2 are balanced: False\n"
          ]
        }
      ]
    },
    {
      "cell_type": "markdown",
      "source": [
        "**Exercise 8: Find all occurrences of a substring in a given string by ignoring the case**\n",
        "\n",
        "Write a program to find all occurrences of “USA” in a given string ignoring the case.\n",
        "\n",
        "Given:\n",
        "\n",
        "str1 = \"Welcome to USA. usa awesome, isn't it?\""
      ],
      "metadata": {
        "id": "yJGL6oXEWzVv"
      }
    },
    {
      "cell_type": "code",
      "source": [
        "str1 = \"Welcome to USA. usa awesome, isn't it?\"\n",
        "sub_string = \"USA\"\n",
        "\n",
        "# convert string to lowercase\n",
        "temp_str = str1.lower()\n",
        "\n",
        "# use count function\n",
        "count = temp_str.count(sub_string.lower())\n",
        "print(\"The USA count is:\", count)"
      ],
      "metadata": {
        "colab": {
          "base_uri": "https://localhost:8080/"
        },
        "id": "tNC8c_jFXIB8",
        "outputId": "ec3fa919-4798-46c8-871a-5b8623122f4b"
      },
      "execution_count": null,
      "outputs": [
        {
          "output_type": "stream",
          "name": "stdout",
          "text": [
            "The USA count is: 2\n"
          ]
        }
      ]
    },
    {
      "cell_type": "markdown",
      "source": [
        "**Exercise 9: Calculate the sum and average of the digits present in a string**\n",
        "\n",
        "Given a string s1, write a program to return the sum and average of the digits that appear in the string, ignoring all other characters.\n",
        "\n",
        "**Given:**\n",
        "str1 = \"PYnative29@#8496\""
      ],
      "metadata": {
        "id": "tKAX0vwnYab0"
      }
    },
    {
      "cell_type": "code",
      "source": [
        "input_str = 'PYnative29@#8496'\n",
        "total = 0\n",
        "count = 0\n",
        "\n",
        "for char in input_str:\n",
        "  if char.isdigit():\n",
        "    total += int(char)\n",
        "    count += 1\n",
        "print(total)\n"
      ],
      "metadata": {
        "colab": {
          "base_uri": "https://localhost:8080/"
        },
        "id": "dbX8-gd5YnX0",
        "outputId": "6e4c6069-cae6-4f25-ee3c-32c6b4cdab38"
      },
      "execution_count": null,
      "outputs": [
        {
          "output_type": "stream",
          "name": "stdout",
          "text": [
            "38\n"
          ]
        }
      ]
    },
    {
      "cell_type": "markdown",
      "source": [
        "**Exercise 10: Write a program to count occurrences of all characters within a string**\n",
        "\n",
        "Given:\n",
        "\n",
        "str1 = \"Apple\""
      ],
      "metadata": {
        "id": "AIUQEN_9dRpi"
      }
    },
    {
      "cell_type": "code",
      "source": [
        "str1 = 'Apple'\n",
        "\n",
        "char_dict = {}\n",
        "\n",
        "for char in str1:\n",
        "  count = str1.count(char)\n",
        "  char_dict[char] = count\n",
        "print('Result is :', char_dict)"
      ],
      "metadata": {
        "colab": {
          "base_uri": "https://localhost:8080/"
        },
        "id": "f5KL64GQdVW1",
        "outputId": "f0e52699-fe73-47b1-b0ed-2ad5efaa3bd7"
      },
      "execution_count": null,
      "outputs": [
        {
          "output_type": "stream",
          "name": "stdout",
          "text": [
            "Result is : {'A': 1, 'p': 2, 'l': 1, 'e': 1}\n"
          ]
        }
      ]
    },
    {
      "cell_type": "markdown",
      "source": [
        "**Exercise 11: Reverse a given string**\n",
        "\n",
        "Given:\n",
        "\n",
        "str1 = \"PYnative\"\n",
        "Expected Output:\n",
        "\n",
        "evitanYP"
      ],
      "metadata": {
        "id": "k9mvX4OsYEE-"
      }
    },
    {
      "cell_type": "code",
      "source": [
        "str1 = 'Hyder'\n",
        "str1 = str1[::-1]\n",
        "print(str1)"
      ],
      "metadata": {
        "colab": {
          "base_uri": "https://localhost:8080/"
        },
        "id": "JSpV60YCYNaG",
        "outputId": "114a45b3-95d8-4182-99ac-c41004090398"
      },
      "execution_count": 10,
      "outputs": [
        {
          "output_type": "stream",
          "name": "stdout",
          "text": [
            "redyH\n"
          ]
        }
      ]
    },
    {
      "cell_type": "markdown",
      "source": [
        "**Exercise 12: Find the last position of a given substring**\n",
        "\n",
        "Write a program to find the last position of a substring “Emma” in a given string.\n",
        "\n",
        "Given:\n",
        "\n",
        "str1 = \"Emma is a data scientist who knows Python. Emma works at google.\""
      ],
      "metadata": {
        "id": "Qxj3gjhiZdMc"
      }
    },
    {
      "cell_type": "code",
      "source": [
        "str1 = \"Emma is a data scientist who knows Python. Emma works at google.\"\n",
        "\n",
        "print('Original String : ',str1)\n",
        "\n",
        "index = str1.rfind('Emma')\n",
        "\n",
        "print('Last Occurance of Emma is ', index)"
      ],
      "metadata": {
        "colab": {
          "base_uri": "https://localhost:8080/"
        },
        "id": "XlsFf0j7Zqa7",
        "outputId": "1afcda30-dd15-4ac0-8055-e754296fcf3c"
      },
      "execution_count": 11,
      "outputs": [
        {
          "output_type": "stream",
          "name": "stdout",
          "text": [
            "Original String :  Emma is a data scientist who knows Python. Emma works at google.\n",
            "Last Occurance of Emma is  43\n"
          ]
        }
      ]
    },
    {
      "cell_type": "markdown",
      "source": [
        "**Exercise 13: Split a string on hyphens**\n",
        "\n",
        "Write a program to split a given string on hyphens and display each substring.\n",
        "\n",
        "Given:\n",
        "\n",
        "str1 = Emma-is-a-data-scientist"
      ],
      "metadata": {
        "id": "vN3srrpsaLqK"
      }
    },
    {
      "cell_type": "code",
      "source": [
        "str1 = 'Emma-is-a-data-scientist'\n",
        "\n",
        "print('Original String : ', str1)\n",
        "\n",
        "sub_str1 = str1.split(\"-\")\n",
        "\n",
        "for sub in sub_str1:\n",
        "  print(sub)"
      ],
      "metadata": {
        "colab": {
          "base_uri": "https://localhost:8080/"
        },
        "id": "UMY8k4j9aWef",
        "outputId": "4a9d96c0-2e95-4def-920c-2cb89a735a01"
      },
      "execution_count": 15,
      "outputs": [
        {
          "output_type": "stream",
          "name": "stdout",
          "text": [
            "Original String :  Emma-is-a-data-scientist\n",
            "Emma\n",
            "is\n",
            "a\n",
            "data\n",
            "scientist\n"
          ]
        }
      ]
    },
    {
      "cell_type": "markdown",
      "source": [
        "**Exercise 14: Remove empty strings from a list of strings**\n",
        "\n",
        "Given:\n",
        "\n",
        "str_list = [\"Emma\", \"Jon\", \"\", \"Kelly\", None, \"Eric\", \"\"]"
      ],
      "metadata": {
        "id": "bHl3gAA9bH_M"
      }
    },
    {
      "cell_type": "code",
      "source": [
        "str_list = [\"Emma\", \"Jon\", \"\", \"Kelly\", None, \"Eric\", \"\"]\n",
        "print('Original List: ', str_list)\n",
        "\n",
        "filter_list = list(filter(None,str_list))\n",
        "\n",
        "print(filter_list)"
      ],
      "metadata": {
        "colab": {
          "base_uri": "https://localhost:8080/"
        },
        "id": "bqS-r3mmbeB6",
        "outputId": "aa15113d-f11a-43da-e1a8-6b278cc8ed43"
      },
      "execution_count": 22,
      "outputs": [
        {
          "output_type": "stream",
          "name": "stdout",
          "text": [
            "Original List:  ['Emma', 'Jon', '', 'Kelly', None, 'Eric', '']\n",
            "['Emma', 'Jon', 'Kelly', 'Eric']\n"
          ]
        }
      ]
    },
    {
      "cell_type": "markdown",
      "source": [
        "**Exercise 15: Remove special symbols / punctuation from a string**\n",
        "\n",
        "Given:\n",
        "\n",
        "str1 = \"/*Jon is @developer & musician\""
      ],
      "metadata": {
        "id": "OY89mHjvc5Cp"
      }
    },
    {
      "cell_type": "code",
      "source": [
        "import string\n",
        "\n",
        "str1 = \"/*Jon is @developer & musician\"\n",
        "\n",
        "print(\"original String: \",str1)\n",
        "\n",
        "new_str = str1.translate(str.maketrans('','',string.punctuation))\n",
        "print('New String is :',new_str)"
      ],
      "metadata": {
        "colab": {
          "base_uri": "https://localhost:8080/"
        },
        "id": "XlTBVQa4dKiN",
        "outputId": "a7b2b4a7-1428-4f8f-b079-ed8030263a4e"
      },
      "execution_count": 24,
      "outputs": [
        {
          "output_type": "stream",
          "name": "stdout",
          "text": [
            "original String:  /*Jon is @developer & musician\n",
            "New String is : Jon is developer  musician\n"
          ]
        }
      ]
    },
    {
      "cell_type": "code",
      "source": [
        "import re\n",
        "\n",
        "str1 = \"/*Jon is @developer & musician\"\n",
        "print(\"Original string is \", str1)\n",
        "\n",
        "# replace special symbols with ''\n",
        "res = re.sub(r'[^\\w\\s]', '', str1)\n",
        "print(\"New string is \", res)"
      ],
      "metadata": {
        "colab": {
          "base_uri": "https://localhost:8080/"
        },
        "id": "7u1DlkcEeArM",
        "outputId": "3353bfeb-0088-4244-98ba-79021955d9e9"
      },
      "execution_count": 25,
      "outputs": [
        {
          "output_type": "stream",
          "name": "stdout",
          "text": [
            "Original string is  /*Jon is @developer & musician\n",
            "New string is  Jon is developer  musician\n"
          ]
        }
      ]
    },
    {
      "cell_type": "markdown",
      "source": [
        "**Exercise 16: Removal all characters from a string except integers**\n",
        "\n",
        "Given:\n",
        "\n",
        "str1 = 'I am 25 years and 10 months old'"
      ],
      "metadata": {
        "id": "0ushqafbeDZp"
      }
    },
    {
      "cell_type": "code",
      "source": [
        "str1 = 'I am 25 years and 10 months old'\n",
        "\n",
        "print('Original String is:',str1)\n",
        "\n",
        "# Retain Numbers in String\n",
        "# Using list comprehension + join() + isdigit()\n",
        "res = \"\".join([item for item in str1 if item.isdigit()])\n",
        "print(res)"
      ],
      "metadata": {
        "colab": {
          "base_uri": "https://localhost:8080/"
        },
        "id": "mE6eiNZ1eQhY",
        "outputId": "59da622f-6bc9-40b7-fa2d-b01d54df1c1a"
      },
      "execution_count": 29,
      "outputs": [
        {
          "output_type": "stream",
          "name": "stdout",
          "text": [
            "Original String is: I am 25 years and 10 months old\n",
            "2510\n"
          ]
        }
      ]
    },
    {
      "cell_type": "markdown",
      "source": [
        "**Exercise 17: Find words with both alphabets and numbers**\n",
        "\n",
        "Write a program to find words with both alphabets and numbers from an input string.\n",
        "\n",
        "Given:\n",
        "\n",
        "str1 = \"Emma25 is Data scientist50 and AI Expert\""
      ],
      "metadata": {
        "id": "-3suXUoGfc4w"
      }
    },
    {
      "cell_type": "code",
      "source": [
        "str1 = \"Emma25 is Data scientist50 and AI Expert\"\n",
        "\n",
        "print('Original String is :',str1)\n",
        "\n",
        "res = []\n",
        "\n",
        "# split string on whitespace\n",
        "\n",
        "temp = str1.split()\n",
        "\n",
        "# Words with both alphabets and numbers\n",
        "# isdigit() for numbers + isalpha() for alphabets\n",
        "# use any() to check each character\n",
        "\n",
        "for item in temp:\n",
        "  if any(char.isalpha for char in item) and any(char.isdigit for char in item):\n",
        "    res.append(item)\n",
        "print('Displaying Result')\n",
        "for i in res:\n",
        "  print(i)"
      ],
      "metadata": {
        "colab": {
          "base_uri": "https://localhost:8080/"
        },
        "id": "MUlbtcIwfjHo",
        "outputId": "765e0761-3d05-4c4d-de6a-ddbf5a72939f"
      },
      "execution_count": 33,
      "outputs": [
        {
          "output_type": "stream",
          "name": "stdout",
          "text": [
            "Original String is : Emma25 is Data scientist50 and AI Expert\n",
            "Displaying Result\n",
            "Emma25\n",
            "is\n",
            "Data\n",
            "scientist50\n",
            "and\n",
            "AI\n",
            "Expert\n"
          ]
        }
      ]
    },
    {
      "cell_type": "markdown",
      "source": [
        "**Exercise 18: Replace each special symbol with # in the following string**\n",
        "\n",
        "Given:\n",
        "\n",
        "str1 = '/*Jon is @developer & musician!!'"
      ],
      "metadata": {
        "id": "vvpD_Pqah3n-"
      }
    },
    {
      "cell_type": "code",
      "source": [
        "import string\n",
        "\n",
        "str1 = '/*Jon is @developer & musician!!'\n",
        "\n",
        "print('Original String: ',str1)\n",
        "\n",
        "# Replace punctuations with #\n",
        "\n",
        "replace_char ='#'\n",
        "# string.punctuation to get the list of all special symbols\n",
        "for char in string.punctuation:\n",
        "  str1 = str1.replace(char,replace_char)\n",
        "print('New String is: ',str1)\n"
      ],
      "metadata": {
        "colab": {
          "base_uri": "https://localhost:8080/"
        },
        "id": "xX8Fhm5Oh6DK",
        "outputId": "7aaa2870-29b0-466c-fc45-7379b3a5ccbe"
      },
      "execution_count": 35,
      "outputs": [
        {
          "output_type": "stream",
          "name": "stdout",
          "text": [
            "Original String:  /*Jon is @developer & musician!!\n",
            "New String is:  ##Jon is #developer # musician##\n"
          ]
        }
      ]
    }
  ]
}