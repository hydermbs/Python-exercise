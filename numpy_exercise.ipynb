{
  "nbformat": 4,
  "nbformat_minor": 0,
  "metadata": {
    "colab": {
      "name": "numpy_exercise.ipynb",
      "provenance": [],
      "authorship_tag": "ABX9TyPuo37N/T1JpPfF5LqunTA+",
      "include_colab_link": true
    },
    "kernelspec": {
      "name": "python3",
      "display_name": "Python 3"
    },
    "language_info": {
      "name": "python"
    }
  },
  "cells": [
    {
      "cell_type": "markdown",
      "metadata": {
        "id": "view-in-github",
        "colab_type": "text"
      },
      "source": [
        "<a href=\"https://colab.research.google.com/github/hydermbs/Python-exercise/blob/main/numpy_exercise.ipynb\" target=\"_parent\"><img src=\"https://colab.research.google.com/assets/colab-badge.svg\" alt=\"Open In Colab\"/></a>"
      ]
    },
    {
      "cell_type": "markdown",
      "source": [
        "**Exercise 1: Create a 4X2 integer array and Prints its attributes**"
      ],
      "metadata": {
        "id": "eAxhDc1leGoM"
      }
    },
    {
      "cell_type": "code",
      "execution_count": 1,
      "metadata": {
        "id": "PT9yaKUXd_lQ",
        "colab": {
          "base_uri": "https://localhost:8080/"
        },
        "outputId": "d1082b7a-cc6b-4287-b144-247f5807bc6a"
      },
      "outputs": [
        {
          "output_type": "stream",
          "name": "stdout",
          "text": [
            "[[1 1]\n",
            " [1 1]\n",
            " [1 1]\n",
            " [1 1]]\n",
            "shape: (4, 2)\n",
            "dimension: 2\n"
          ]
        }
      ],
      "source": [
        "import numpy as np\n",
        "\n",
        "a = np.ones([4,2],dtype = np.int16)\n",
        "print(a)\n",
        "print('shape:',a.shape)\n",
        "print('dimension:',a.ndim)"
      ]
    },
    {
      "cell_type": "markdown",
      "source": [
        "**Create a 5X2 integer array from a range between 100 to 200 such that the difference between each element is 10**"
      ],
      "metadata": {
        "id": "TFJpfV9TlTky"
      }
    },
    {
      "cell_type": "code",
      "source": [
        "b = np.arange(100,200,10).reshape(5,2)\n",
        "b"
      ],
      "metadata": {
        "colab": {
          "base_uri": "https://localhost:8080/"
        },
        "id": "hxiDOfsZlXH6",
        "outputId": "6bcb3ba1-3beb-415d-c8fb-63a44ab3215e"
      },
      "execution_count": null,
      "outputs": [
        {
          "output_type": "execute_result",
          "data": {
            "text/plain": [
              "array([[100, 110],\n",
              "       [120, 130],\n",
              "       [140, 150],\n",
              "       [160, 170],\n",
              "       [180, 190]])"
            ]
          },
          "metadata": {},
          "execution_count": 20
        }
      ]
    },
    {
      "cell_type": "markdown",
      "source": [
        "**Following is the provided numPy array. Return array of items by taking the third column from all rows**"
      ],
      "metadata": {
        "id": "NMYdXUAtl8Ab"
      }
    },
    {
      "cell_type": "code",
      "source": [
        "sample_array = np.array([[11 ,22, 33], [44, 55, 66], [77, 88, 99]])\n",
        "print('Sample Array:',sample_array)\n",
        "c = sample_array[...,2]\n",
        "c"
      ],
      "metadata": {
        "colab": {
          "base_uri": "https://localhost:8080/"
        },
        "id": "LLLDLnk7l-HR",
        "outputId": "d66c7b73-eaa4-41c6-8447-d32c13ce8ac4"
      },
      "execution_count": null,
      "outputs": [
        {
          "output_type": "stream",
          "name": "stdout",
          "text": [
            "Sample Array: [[11 22 33]\n",
            " [44 55 66]\n",
            " [77 88 99]]\n"
          ]
        },
        {
          "output_type": "execute_result",
          "data": {
            "text/plain": [
              "array([33, 66, 99])"
            ]
          },
          "metadata": {},
          "execution_count": 26
        }
      ]
    },
    {
      "cell_type": "markdown",
      "source": [
        "**Exercise 4: Return array of odd rows and even columns from below numpy array**"
      ],
      "metadata": {
        "id": "e9FzvSXwm57h"
      }
    },
    {
      "cell_type": "code",
      "source": [
        "sample_array = np.array([[3 ,6, 9, 12], [15 ,18, 21, 24], \n",
        "[27 ,30, 33, 36], [39 ,42, 45, 48], [51 ,54, 57, 60]])\n",
        "print('Sample Array:',sample_array)\n",
        "newarray = sample_array[::2,1::2]\n",
        "print('New Array:',newarray)"
      ],
      "metadata": {
        "colab": {
          "base_uri": "https://localhost:8080/"
        },
        "id": "XSnPJh05m9T9",
        "outputId": "1cbe8b8a-8ad4-4e40-8819-816f9e368b11"
      },
      "execution_count": null,
      "outputs": [
        {
          "output_type": "stream",
          "name": "stdout",
          "text": [
            "Sample Array: [[ 3  6  9 12]\n",
            " [15 18 21 24]\n",
            " [27 30 33 36]\n",
            " [39 42 45 48]\n",
            " [51 54 57 60]]\n",
            "New Array: [[ 6 12]\n",
            " [30 36]\n",
            " [54 60]]\n"
          ]
        }
      ]
    },
    {
      "cell_type": "markdown",
      "source": [
        "**Exercise 5: Create a result array by adding the following two NumPy arrays. Next, modify the result array by calculating the square of each elemen**"
      ],
      "metadata": {
        "id": "KOdmmT5Jnxc8"
      }
    },
    {
      "cell_type": "code",
      "source": [
        "arrayOne = np.array([[5, 6, 9], [21 ,18, 27]])\n",
        "arrayTwo = np.array([[15 ,33, 24], [4 ,7, 1]])\n",
        "print('Array One:',arrayOne)\n",
        "print('Array Two',arrayTwo)\n",
        "\n",
        "resultarray = arrayOne + arrayTwo\n",
        "print(resultarray)\n",
        "\n",
        "for num in np.nditer(resultarray, op_flags = ['readwrite']):\n",
        "   num[...] = num*num\n",
        "print(\"\\nResult array after calculating the square root of all elements\\n\")\n",
        "print(resultarray)"
      ],
      "metadata": {
        "colab": {
          "base_uri": "https://localhost:8080/"
        },
        "id": "VMGey5S3n3wE",
        "outputId": "db4086b4-3c66-44b7-9a88-da564d338655"
      },
      "execution_count": null,
      "outputs": [
        {
          "output_type": "stream",
          "name": "stdout",
          "text": [
            "Array One: [[ 5  6  9]\n",
            " [21 18 27]]\n",
            "Array Two [[15 33 24]\n",
            " [ 4  7  1]]\n",
            "[[20 39 33]\n",
            " [25 25 28]]\n",
            "\n",
            "Result array after calculating the square root of all elements\n",
            "\n",
            "[[ 400 1521 1089]\n",
            " [ 625  625  784]]\n"
          ]
        }
      ]
    },
    {
      "cell_type": "markdown",
      "source": [
        "**Exercise 6: Split the array into four equal-sized sub-arrays**\n",
        "\n",
        "**Note:** Create an 8X3 integer array from a range between 10 to 34 such that the difference between each element is 1 and then Split the array into four equal-sized sub-arrays."
      ],
      "metadata": {
        "id": "0UxchuzDpdYm"
      }
    },
    {
      "cell_type": "code",
      "source": [
        "a = np.arange(10,34,1).reshape(8,3)\n",
        "print('array:',a)\n",
        "b = np.split(a,4)\n",
        "print(b)"
      ],
      "metadata": {
        "colab": {
          "base_uri": "https://localhost:8080/"
        },
        "id": "clxbNnzypiQq",
        "outputId": "f30ad25e-aebc-4ec4-e179-0a8b27074049"
      },
      "execution_count": null,
      "outputs": [
        {
          "output_type": "stream",
          "name": "stdout",
          "text": [
            "array: [[10 11 12]\n",
            " [13 14 15]\n",
            " [16 17 18]\n",
            " [19 20 21]\n",
            " [22 23 24]\n",
            " [25 26 27]\n",
            " [28 29 30]\n",
            " [31 32 33]]\n",
            "[array([[10, 11, 12],\n",
            "       [13, 14, 15]]), array([[16, 17, 18],\n",
            "       [19, 20, 21]]), array([[22, 23, 24],\n",
            "       [25, 26, 27]]), array([[28, 29, 30],\n",
            "       [31, 32, 33]])]\n"
          ]
        }
      ]
    },
    {
      "cell_type": "markdown",
      "source": [
        "**Exercise 7: Sort following NumPy array**\n",
        "\n",
        "Case 1: Sort array by the second row\n",
        "\n",
        "Case 2: Sort the array by the second column"
      ],
      "metadata": {
        "id": "02iGV8b-quJq"
      }
    },
    {
      "cell_type": "code",
      "source": [
        "sampleArray = np.array([[34,43,73],[82,22,12],[53,94,66]])\n",
        "print('Sample arary:',sampleArray)\n",
        "sortrow = sampleArray[:,sampleArray[1,:].argsort()]\n",
        "print('Sorted By row',sortrow)\n",
        "sortcol = sampleArray[sampleArray[:,1].argsort()]\n",
        "print('Sort By column:',sortcol)"
      ],
      "metadata": {
        "colab": {
          "base_uri": "https://localhost:8080/"
        },
        "id": "9bbFNHQ2qytE",
        "outputId": "2ae435d4-873d-4ee4-9313-cd2b9b542cf9"
      },
      "execution_count": null,
      "outputs": [
        {
          "output_type": "stream",
          "name": "stdout",
          "text": [
            "Sample arary: [[34 43 73]\n",
            " [82 22 12]\n",
            " [53 94 66]]\n",
            "Sorted By row [[73 43 34]\n",
            " [12 22 82]\n",
            " [66 94 53]]\n",
            "Sort By column: [[82 22 12]\n",
            " [34 43 73]\n",
            " [53 94 66]]\n"
          ]
        }
      ]
    },
    {
      "cell_type": "markdown",
      "source": [
        "**Exercise 8: Print max from axis 0 and min from axis 1 from the following 2-D array.**"
      ],
      "metadata": {
        "id": "0at2oAeCBQGu"
      }
    },
    {
      "cell_type": "code",
      "source": [
        "sampleArray = np.array([[34,43,73],[82,22,12],[53,94,66]])\n",
        "print('Original Array',sampleArray)\n",
        "\n",
        "maxof1 = sampleArray.max(axis = 0)\n",
        "print('Max array',maxof1)\n",
        "minof0 = sampleArray.min(axis = 1)\n",
        "print('Min Array',minof0)"
      ],
      "metadata": {
        "colab": {
          "base_uri": "https://localhost:8080/"
        },
        "id": "jEs_u6B0BTHv",
        "outputId": "0ad82656-b9ff-41c0-b6f4-e5b3aaf9fe7c"
      },
      "execution_count": 10,
      "outputs": [
        {
          "output_type": "stream",
          "name": "stdout",
          "text": [
            "Original Array [[34 43 73]\n",
            " [82 22 12]\n",
            " [53 94 66]]\n",
            "Max array [82 94 73]\n",
            "Min Array [34 12 53]\n"
          ]
        }
      ]
    },
    {
      "cell_type": "markdown",
      "source": [
        "**Exercise 9 : Delete the second column from a given array and insert the following new column in its place.**"
      ],
      "metadata": {
        "id": "tlf1B_pNCkxO"
      }
    },
    {
      "cell_type": "code",
      "source": [
        "sampleArray = np.array([[34,43,73],[82,22,12],[53,94,66]]) \n",
        "newColumn = np.array([[10,10,10]])\n",
        "sampleArray= np.delete(sampleArray,1,axis=1)\n",
        "print(sampleArray)\n",
        "sampleArray = np.insert(sampleArray,1,newColumn,axis =1)\n",
        "print(sampleArray)"
      ],
      "metadata": {
        "colab": {
          "base_uri": "https://localhost:8080/"
        },
        "id": "L8XjXEdhCqih",
        "outputId": "17a61414-28c0-4fa2-aafe-3cdaedea4284"
      },
      "execution_count": 13,
      "outputs": [
        {
          "output_type": "stream",
          "name": "stdout",
          "text": [
            "[[34 73]\n",
            " [82 12]\n",
            " [53 66]]\n",
            "[[34 10 73]\n",
            " [82 10 12]\n",
            " [53 10 66]]\n"
          ]
        }
      ]
    },
    {
      "cell_type": "markdown",
      "source": [
        "**Exercise 10: Create two 2-D arrays and Plot them using matplotlib**\n"
      ],
      "metadata": {
        "id": "Fc04YWeMDpIh"
      }
    },
    {
      "cell_type": "code",
      "source": [
        "newArray = np.array([(1,2,3,4,5),(100,200,300,400,500)])\n",
        "newArray\n",
        "import matplotlib.pyplot as plt\n",
        "plt.plot(newArray)"
      ],
      "metadata": {
        "colab": {
          "base_uri": "https://localhost:8080/",
          "height": 357
        },
        "id": "0DNO0anlDrZ2",
        "outputId": "ed45efce-5bdc-4b94-8d93-d59f6bcfa9a0"
      },
      "execution_count": 24,
      "outputs": [
        {
          "output_type": "execute_result",
          "data": {
            "text/plain": [
              "[<matplotlib.lines.Line2D at 0x7efe188aec90>,\n",
              " <matplotlib.lines.Line2D at 0x7efe188aee50>,\n",
              " <matplotlib.lines.Line2D at 0x7efe18413a10>,\n",
              " <matplotlib.lines.Line2D at 0x7efe183ff490>,\n",
              " <matplotlib.lines.Line2D at 0x7efe183ff890>]"
            ]
          },
          "metadata": {},
          "execution_count": 24
        },
        {
          "output_type": "display_data",
          "data": {
            "text/plain": [
              "<Figure size 432x288 with 1 Axes>"
            ],
            "image/png": "[encoded data removed]"
          },
          "metadata": {
            "needs_background": "light"
          }
        }
      ]
    }
  ]
}